{
 "cells": [
  {
   "cell_type": "code",
   "execution_count": 1,
   "metadata": {},
   "outputs": [
    {
     "name": "stderr",
     "output_type": "stream",
     "text": [
      "/usr/lib/python2.7/dist-packages/sklearn/cross_validation.py:44: DeprecationWarning: This module was deprecated in version 0.18 in favor of the model_selection module into which all the refactored classes and functions are moved. Also note that the interface of the new CV iterators are different from that of this module. This module will be removed in 0.20.\n",
      "  \"This module will be removed in 0.20.\", DeprecationWarning)\n",
      "/usr/lib/python2.7/dist-packages/sklearn/grid_search.py:43: DeprecationWarning: This module was deprecated in version 0.18 in favor of the model_selection module into which all the refactored classes and functions are moved. This module will be removed in 0.20.\n",
      "  DeprecationWarning)\n"
     ]
    }
   ],
   "source": [
    "import numpy as np\n",
    "import pandas as pd\n",
    "import matplotlib.pyplot as plt\n",
    "from sklearn.cross_validation import train_test_split\n",
    "from sklearn.metrics import accuracy_score\n",
    "from sklearn.cross_validation import cross_val_score\n",
    "from collections import Counter\n",
    "from sklearn.metrics import classification_report\n",
    "from sklearn import cross_validation\n",
    "from sklearn.metrics import confusion_matrix\n",
    "from sklearn.grid_search import GridSearchCV\n",
    "from sklearn.svm import SVC\n",
    "import pickle\n",
    "from sklearn.feature_extraction.text import CountVectorizer\n",
    "from sklearn.linear_model import SGDClassifier\n",
    "from scipy.stats import uniform\n",
    "from sklearn.model_selection import RandomizedSearchCV"
   ]
  },
  {
   "cell_type": "code",
   "execution_count": 2,
   "metadata": {},
   "outputs": [],
   "source": [
    "filename='X_train'\n",
    "infile = open(filename,'rb')\n",
    "X_train=pickle.load(infile)\n",
    "infile.close()\n",
    "\n",
    "filename='y_train'\n",
    "infile = open(filename,'rb')\n",
    "y_tr=pickle.load(infile)\n",
    "infile.close()\n",
    "\n",
    "filename='X_test'\n",
    "infile = open(filename,'rb')\n",
    "X_test=pickle.load(infile)\n",
    "infile.close()\n",
    "\n",
    "filename='y_test'\n",
    "infile = open(filename,'rb')\n",
    "y_test=pickle.load(infile)\n",
    "infile.close()"
   ]
  },
  {
   "cell_type": "code",
   "execution_count": 3,
   "metadata": {},
   "outputs": [],
   "source": [
    "#Unpickling\n",
    "import pickle\n",
    "\n",
    "infile = open('count_vect_BOW','rb')\n",
    "count_vect=pickle.load(infile)\n",
    "infile.close()\n",
    "\n",
    "infile = open('Train_BOW_Std','rb')\n",
    "X_train_Bow_standarized_data=pickle.load(infile)\n",
    "infile.close()\n",
    "\n",
    "infile = open('Test_BOW_Std','rb')\n",
    "X_test_BOW_standarized_data=pickle.load(infile)\n",
    "infile.close()\n",
    "\n",
    "infile = open('tf_idf_vect_TF-IDF','rb')\n",
    "tf_idf_vect = pickle.load(infile)\n",
    "infile.close()\n",
    "\n",
    "infile = open('Train_TFIDF_Std','rb')\n",
    "X_train_tfidf_standarized_data=pickle.load(infile)\n",
    "infile.close()\n",
    "\n",
    "infile = open('Test_TFIDF_Std','rb')\n",
    "X_test_tfidf_standarized_data=pickle.load(infile)\n",
    "infile.close()\n",
    "\n",
    "infile = open('Train_AvgW2V_std','rb')\n",
    "X_train_AvgW2V_standarized_data=pickle.load(infile)\n",
    "infile.close()\n",
    "\n",
    "\n",
    "infile = open('Test_AvgW2V_std','rb')\n",
    "X_test_AvgW2V_standarized_data=pickle.load(infile)\n",
    "infile.close()\n",
    "\n",
    "infile = open('TFIDF_W2V_Train_standarized_data','rb')\n",
    "X_train_TFIDF_W2V_standarized_data=pickle.load(infile)\n",
    "infile.close()\n"
   ]
  },
  {
   "cell_type": "code",
   "execution_count": 4,
   "metadata": {},
   "outputs": [],
   "source": [
    "infile = open('TFIDF_W2V_Test_standarized_data','rb')\n",
    "X_test_TFIDF_W2V_standarized_data=pickle.load(infile)\n",
    "infile.close()"
   ]
  },
  {
   "cell_type": "markdown",
   "metadata": {},
   "source": [
    "# GridSearch"
   ]
  },
  {
   "cell_type": "code",
   "execution_count": 5,
   "metadata": {},
   "outputs": [],
   "source": [
    "def SGD_GRIDSEARCH(X_train,y_train):\n",
    "    tuned_parameters = [{'alpha': [1e-4, 1e-3, 1e-2, 1e-1, 1e0, 1e1, 1e2]                  \n",
    "                    }]  \n",
    "    svm=SGDClassifier(loss='hinge',class_weight = \"balanced\")\n",
    "    model= GridSearchCV(svm,tuned_parameters, scoring = 'f1', cv=5,n_jobs=-1)\n",
    "    model.fit(X_train, y_train)\n",
    "    best_estimator= model.best_estimator_\n",
    "    best_params = model.best_params_\n",
    "    \n",
    "    return best_estimator,best_params\n"
   ]
  },
  {
   "cell_type": "markdown",
   "metadata": {},
   "source": [
    "# Random searchCV"
   ]
  },
  {
   "cell_type": "code",
   "execution_count": 8,
   "metadata": {},
   "outputs": [],
   "source": [
    "def SGD_RandomSearchCV(X_train,y_train):\n",
    "    alpha = uniform(loc=0, scale=1)\n",
    "    tuned_parameters = dict(alpha=alpha)\n",
    "    svm=SGDClassifier(loss='hinge',class_weight = \"balanced\")\n",
    "    model= RandomizedSearchCV(svm,tuned_parameters, scoring = 'f1', cv=5,n_jobs=-1)\n",
    "    model.fit(X_train, y_train)\n",
    "    best_estimator= model.best_estimator_\n",
    "    best_params = model.best_params_\n",
    "    \n",
    "    return best_estimator,best_params"
   ]
  },
  {
   "cell_type": "markdown",
   "metadata": {},
   "source": [
    "# Training_Testing Errors "
   ]
  },
  {
   "cell_type": "code",
   "execution_count": 6,
   "metadata": {},
   "outputs": [],
   "source": [
    "def Train_Test_Error(alpha,X_train,y_train,X_test,y_test):\n",
    "    svm=SGDClassifier(loss='hinge',class_weight = \"balanced\",alpha=alpha)\n",
    "    svm_model = svm.fit(X_train, y_train)\n",
    "\n",
    "    #Training Error\n",
    "    y_pred_tr = svm_model.predict(X_train)\n",
    "    acc_tr = accuracy_score(y_train, y_pred_tr)\n",
    "    train_error = 1-acc_tr\n",
    "    print('\\n Train error is : {}'.format(train_error))\n",
    "\n",
    "    #Test Error\n",
    "    y_pred_ts = svm_model.predict(X_test)\n",
    "    acc_ts = accuracy_score(y_test, y_pred_ts)\n",
    "    test_error = 1-acc_ts\n",
    "    print('\\n Test error is : {}'.format(test_error))\n",
    "    \n",
    "    return train_error,test_error,y_pred_ts,svm_model"
   ]
  },
  {
   "cell_type": "markdown",
   "metadata": {},
   "source": [
    "# CV_Error_Plot"
   ]
  },
  {
   "cell_type": "code",
   "execution_count": 7,
   "metadata": {},
   "outputs": [],
   "source": [
    "def CV_Error_Plot(X_Train,y_Train):\n",
    "    alpha_list= [1e-4, 1e-3, 1e-2, 1e-1, 1e0, 1e1, 1e2]\n",
    "\n",
    "    # empty list that will hold cv scores\n",
    "    cv_scores = []\n",
    "\n",
    "    for alpha in alpha_list:\n",
    "        svm=SGDClassifier(alpha=alpha,loss='hinge',class_weight = \"balanced\")\n",
    "        scores = cross_val_score(svm, X_Train, y_Train, cv=3, scoring='accuracy',n_jobs=-1)\n",
    "        cv_scores.append(scores.mean())\n",
    "\n",
    "    # changing to misclassification error\n",
    "    MSE = [1 - x for x in cv_scores]\n",
    "\n",
    "    # determining best alpha\n",
    "    optimal_alpha = alpha_list[MSE.index(min(MSE))]\n",
    "    print('\\nThe optimal alpha is : {}'.format(optimal_alpha))\n",
    "\n",
    "   # plt.ylim(min(MSE), max(MSE))\n",
    "    #plt.xlim(min(alpha_list),max(alpha_list))\n",
    "    # plot misclassification error vs alpha \n",
    "    plt.plot(alpha_list, MSE)\n",
    "\n",
    "    for xy in zip(alpha_list, np.round(MSE,3)):\n",
    "        plt.annotate('(%s, %s)' % xy, xy=xy, textcoords='data')\n",
    "\n",
    "    plt.xlabel('Depth')\n",
    "    plt.ylabel('Misclassification Error')\n",
    "    plt.show()\n",
    "    print(\"the misclassification error for each alpha value is : \", np.round(MSE,3)) \n",
    "    return optimal_alpha"
   ]
  },
  {
   "cell_type": "markdown",
   "metadata": {},
   "source": [
    "# Confusion Matrix"
   ]
  },
  {
   "cell_type": "code",
   "execution_count": 8,
   "metadata": {},
   "outputs": [],
   "source": [
    "import itertools\n",
    "import numpy as np\n",
    "import matplotlib.pyplot as plt\n",
    "from sklearn.metrics import confusion_matrix\n",
    "plt.rcParams[\"font.family\"] = 'DejaVu Sans'\n",
    "\n",
    "def plot_confusion_matrix(cm, classes,\n",
    "                          normalize=False,\n",
    "                          title='Confusion matrix',\n",
    "                          cmap=plt.cm.Blues):\n",
    "    if normalize:\n",
    "        cm = cm.astype('float') / cm.sum(axis=1)[:, np.newaxis]\n",
    "\n",
    "    plt.imshow(cm, interpolation='nearest', cmap=cmap)\n",
    "    plt.title(title)\n",
    "    plt.colorbar()\n",
    "    tick_marks = np.arange(len(classes))\n",
    "    plt.xticks(tick_marks, classes, rotation=90)\n",
    "    plt.yticks(tick_marks, classes)\n",
    "\n",
    "    fmt = '.2f' if normalize else 'd'\n",
    "    thresh = cm.max() / 2.\n",
    "    for i, j in itertools.product(range(cm.shape[0]), range(cm.shape[1])):\n",
    "        plt.text(j, i, format(cm[i, j], fmt),\n",
    "                 horizontalalignment=\"center\",\n",
    "                 color=\"white\" if cm[i, j] > thresh else \"black\")\n",
    "\n",
    "    plt.tight_layout()\n",
    "    plt.ylabel('True label')\n",
    "    plt.xlabel('Predicted label')"
   ]
  },
  {
   "cell_type": "markdown",
   "metadata": {},
   "source": [
    "# Important Features "
   ]
  },
  {
   "cell_type": "code",
   "execution_count": 11,
   "metadata": {},
   "outputs": [],
   "source": [
    "def get_most_important_features(vectorizer, model, n=5):\n",
    "    index_to_word = {v:k for k,v in vectorizer.vocabulary_.items()}\n",
    "    \n",
    "    # loop for each class\n",
    "    classes ={}\n",
    "    for class_index in range(model.coef_.shape[0]):\n",
    "        word_importances = [(el, index_to_word[i]) for i,el in enumerate(model.coef_[class_index])]\n",
    "        sorted_coeff = sorted(word_importances, key = lambda x : x[0], reverse=True)\n",
    "        tops = sorted(sorted_coeff[:n], key = lambda x : x[0])\n",
    "        bottom = sorted_coeff[-n:]\n",
    "        classes[class_index] = {\n",
    "            'tops':tops,\n",
    "            'bottom':bottom\n",
    "        }\n",
    "    return classes\n",
    "\n",
    "def plot_important_words(top_scores, top_words, bottom_scores, bottom_words, name):\n",
    "    y_pos = np.arange(len(top_words))\n",
    "    top_pairs = [(a,b) for a,b in zip(top_words, top_scores)]\n",
    "    top_pairs = sorted(top_pairs, key=lambda x: x[1])\n",
    "    \n",
    "    bottom_pairs = [(a,b) for a,b in zip(bottom_words, bottom_scores)]\n",
    "    bottom_pairs = sorted(bottom_pairs, key=lambda x: x[1], reverse=True)\n",
    "    \n",
    "    top_words = [a[0] for a in top_pairs]\n",
    "    top_scores = [a[1] for a in top_pairs]\n",
    "    \n",
    "    bottom_words = [a[0] for a in bottom_pairs]\n",
    "    bottom_scores = [a[1] for a in bottom_pairs]\n",
    "    \n",
    "    fig = plt.figure(figsize=(10, 10))  \n",
    "\n",
    "    plt.subplot(121)\n",
    "    plt.barh(y_pos,bottom_scores, align='center', alpha=0.5)\n",
    "    plt.title('Negative', fontsize=20)\n",
    "    plt.yticks(y_pos, bottom_words, fontsize=14)\n",
    "    plt.suptitle('Key words', fontsize=16)\n",
    "    plt.xlabel('Importance', fontsize=20)\n",
    "    \n",
    "    plt.subplot(122)\n",
    "    plt.barh(y_pos,top_scores, align='center', alpha=0.5)\n",
    "    plt.title('Positive', fontsize=20)\n",
    "    plt.yticks(y_pos, top_words, fontsize=14)\n",
    "    plt.suptitle(name, fontsize=16)\n",
    "    plt.xlabel('Importance', fontsize=20)\n",
    "    \n",
    "    plt.subplots_adjust(wspace=0.8)\n",
    "    plt.show()"
   ]
  },
  {
   "cell_type": "markdown",
   "metadata": {},
   "source": [
    "# SVM_BOW"
   ]
  },
  {
   "cell_type": "markdown",
   "metadata": {},
   "source": [
    "Using GridSearch"
   ]
  },
  {
   "cell_type": "code",
   "execution_count": 12,
   "metadata": {},
   "outputs": [],
   "source": [
    "best_estimator_bow,best_params_bow = SGD_GRIDSEARCH(X_train_Bow_standarized_data,y_tr)"
   ]
  },
  {
   "cell_type": "code",
   "execution_count": 13,
   "metadata": {},
   "outputs": [
    {
     "name": "stdout",
     "output_type": "stream",
     "text": [
      "SGDClassifier(alpha=1.0, average=False, class_weight='balanced', epsilon=0.1,\n",
      "       eta0=0.0, fit_intercept=True, l1_ratio=0.15,\n",
      "       learning_rate='optimal', loss='hinge', n_iter=5, n_jobs=1,\n",
      "       penalty='l2', power_t=0.5, random_state=None, shuffle=True,\n",
      "       verbose=0, warm_start=False)\n",
      "{'alpha': 1.0}\n"
     ]
    }
   ],
   "source": [
    "print best_estimator_bow\n",
    "print best_params_bow "
   ]
  },
  {
   "cell_type": "markdown",
   "metadata": {},
   "source": [
    "Using Random Search"
   ]
  },
  {
   "cell_type": "code",
   "execution_count": 31,
   "metadata": {},
   "outputs": [],
   "source": [
    "best_estimator_bow_random,best_params_bow_random = SGD_RandomSearchCV(X_train_Bow_standarized_data,y_tr)"
   ]
  },
  {
   "cell_type": "code",
   "execution_count": 32,
   "metadata": {},
   "outputs": [
    {
     "name": "stdout",
     "output_type": "stream",
     "text": [
      "SGDClassifier(alpha=0.7538459825421077, average=False,\n",
      "       class_weight='balanced', epsilon=0.1, eta0=0.0, fit_intercept=True,\n",
      "       l1_ratio=0.15, learning_rate='optimal', loss='hinge', n_iter=5,\n",
      "       n_jobs=1, penalty='l2', power_t=0.5, random_state=None,\n",
      "       shuffle=True, verbose=0, warm_start=False)\n",
      "{'alpha': 0.7538459825421077}\n"
     ]
    }
   ],
   "source": [
    "print best_estimator_bow_random\n",
    "print best_params_bow_random"
   ]
  },
  {
   "cell_type": "markdown",
   "metadata": {},
   "source": [
    "Errors using Randoms Search"
   ]
  },
  {
   "cell_type": "code",
   "execution_count": 33,
   "metadata": {},
   "outputs": [
    {
     "name": "stdout",
     "output_type": "stream",
     "text": [
      "\n",
      " Train error is : 0.064792812734\n",
      "\n",
      " Test error is : 0.11404808021\n"
     ]
    }
   ],
   "source": [
    "train_error_bow_random,test_error_bow_random,y_pred_ts_bow_random,model_bow_random=Train_Test_Error(best_params_bow_random[\"alpha\"],X_train_Bow_standarized_data,y_tr,X_test_BOW_standarized_data,y_test)"
   ]
  },
  {
   "cell_type": "markdown",
   "metadata": {},
   "source": [
    "Errors using Grid Search"
   ]
  },
  {
   "cell_type": "code",
   "execution_count": 34,
   "metadata": {},
   "outputs": [
    {
     "name": "stdout",
     "output_type": "stream",
     "text": [
      "\n",
      " Train error is : 0.0631489860356\n",
      "\n",
      " Test error is : 0.110136341195\n"
     ]
    }
   ],
   "source": [
    "train_error_bow,test_error_bow,y_pred_ts_bow,model_bow=Train_Test_Error(best_params_bow[\"alpha\"],X_train_Bow_standarized_data,y_tr,X_test_BOW_standarized_data,y_test)"
   ]
  },
  {
   "cell_type": "markdown",
   "metadata": {},
   "source": [
    "Error Plot"
   ]
  },
  {
   "cell_type": "code",
   "execution_count": 45,
   "metadata": {},
   "outputs": [
    {
     "name": "stdout",
     "output_type": "stream",
     "text": [
      "\n",
      "The optimal alpha is : 1.0\n"
     ]
    },
    {
     "data": {
      "image/png": "[encoded data removed]",
      "text/plain": [
       "<Figure size 432x288 with 1 Axes>"
      ]
     },
     "metadata": {},
     "output_type": "display_data"
    },
    {
     "name": "stdout",
     "output_type": "stream",
     "text": [
      "('the misclassification error for each alpha value is : ', array([0.153, 0.157, 0.152, 0.128, 0.105, 0.146, 0.386]))\n"
     ]
    }
   ],
   "source": [
    "optimal_alpha_bow = CV_Error_Plot(X_train_Bow_standarized_data,y_tr)"
   ]
  },
  {
   "cell_type": "code",
   "execution_count": 35,
   "metadata": {},
   "outputs": [
    {
     "name": "stdout",
     "output_type": "stream",
     "text": [
      "\n",
      "  CLASSIFICATION REPORT\n",
      "             precision    recall  f1-score   support\n",
      "\n",
      "          0       0.65      0.80      0.71      4557\n",
      "          1       0.96      0.91      0.93     21774\n",
      "\n",
      "avg / total       0.90      0.89      0.89     26331\n",
      "\n",
      "\n",
      "  CONFUSION MATRIX\n",
      "[[ 3627   930]\n",
      " [ 1970 19804]]\n",
      "\n",
      "  Plot of CONFUSION MATRIX\n"
     ]
    },
    {
     "data": {
      "image/png": "[encoded data removed]",
      "text/plain": [
       "<Figure size 432x432 with 2 Axes>"
      ]
     },
     "metadata": {},
     "output_type": "display_data"
    }
   ],
   "source": [
    "from sklearn.metrics import classification_report\n",
    "#Evaluate precission,recall,f1-score\n",
    "classification_report = classification_report(y_test, y_pred_ts_bow)\n",
    "print \"\\n  CLASSIFICATION REPORT\"\n",
    "print classification_report\n",
    "\n",
    "#determine Confusion matrix  and plotting\n",
    "cm = confusion_matrix(y_test, y_pred_ts_bow)\n",
    "print \"\\n  CONFUSION MATRIX\"\n",
    "print cm\n",
    "print \"\\n  Plot of CONFUSION MATRIX\"\n",
    "plt.figure(figsize=(6,6))\n",
    "plt.grid(b=False)\n",
    "plot_confusion_matrix(cm, classes=['0','1'], normalize=True, title='Normalized confusion matrix', cmap = plt.cm.Blues)\n",
    "plt.show()"
   ]
  },
  {
   "cell_type": "code",
   "execution_count": 36,
   "metadata": {},
   "outputs": [
    {
     "data": {
      "image/png": "[encoded data removed]",
      "text/plain": [
       "<Figure size 720x720 with 2 Axes>"
      ]
     },
     "metadata": {},
     "output_type": "display_data"
    }
   ],
   "source": [
    "#Important Features in classifying the reviews using BOW\n",
    "importance = get_most_important_features(count_vect, model_bow, 10)\n",
    "\n",
    "top_scores = [a[0] for a in importance[0]['tops']]\n",
    "top_words = [a[1] for a in importance[0]['tops']]\n",
    "bottom_scores = [a[0] for a in importance[0]['bottom']]\n",
    "bottom_words = [a[1] for a in importance[0]['bottom']]\n",
    "\n",
    "plot_important_words(top_scores, top_words, bottom_scores, bottom_words, \"Most important words for relevance using BOW\")"
   ]
  },
  {
   "cell_type": "code",
   "execution_count": 37,
   "metadata": {},
   "outputs": [],
   "source": [
    "import pickle\n",
    "filename='model_bow_SVM_GRID'\n",
    "outfile=open(filename,'wb')\n",
    "pickle.dump(model_bow, outfile)\n",
    "outfile.close()\n",
    "\n",
    "filename='model_bow_SVM_RANDOM'\n",
    "outfile=open(filename,'wb')\n",
    "pickle.dump(model_bow_random, outfile)\n",
    "outfile.close()"
   ]
  },
  {
   "cell_type": "markdown",
   "metadata": {},
   "source": [
    "# TFIDF"
   ]
  },
  {
   "cell_type": "code",
   "execution_count": 77,
   "metadata": {},
   "outputs": [
    {
     "name": "stdout",
     "output_type": "stream",
     "text": [
      "SGDClassifier(alpha=1.0, average=False, class_weight='balanced', epsilon=0.1,\n",
      "       eta0=0.0, fit_intercept=True, l1_ratio=0.15,\n",
      "       learning_rate='optimal', loss='hinge', n_iter=5, n_jobs=1,\n",
      "       penalty='l2', power_t=0.5, random_state=None, shuffle=True,\n",
      "       verbose=0, warm_start=False)\n",
      "{'alpha': 1.0}\n"
     ]
    }
   ],
   "source": [
    "best_estimator_tfidf,best_params_tfidf = SGD_GRIDSEARCH(X_train_tfidf_standarized_data,y_tr)\n",
    "print best_estimator_tfidf\n",
    "print best_params_tfidf"
   ]
  },
  {
   "cell_type": "code",
   "execution_count": 78,
   "metadata": {},
   "outputs": [
    {
     "name": "stdout",
     "output_type": "stream",
     "text": [
      "SGDClassifier(alpha=0.8142445523064147, average=False,\n",
      "       class_weight='balanced', epsilon=0.1, eta0=0.0, fit_intercept=True,\n",
      "       l1_ratio=0.15, learning_rate='optimal', loss='hinge', n_iter=5,\n",
      "       n_jobs=1, penalty='l2', power_t=0.5, random_state=None,\n",
      "       shuffle=True, verbose=0, warm_start=False)\n",
      "{'alpha': 0.8142445523064147}\n"
     ]
    }
   ],
   "source": [
    "best_estimator_tfidf_random,best_params_tfidf_random = SGD_RandomSearchCV(X_train_tfidf_standarized_data,y_tr)\n",
    "print best_estimator_tfidf_random\n",
    "print best_params_tfidf_random"
   ]
  },
  {
   "cell_type": "markdown",
   "metadata": {},
   "source": [
    "Using RandomSearch"
   ]
  },
  {
   "cell_type": "code",
   "execution_count": 79,
   "metadata": {},
   "outputs": [
    {
     "name": "stdout",
     "output_type": "stream",
     "text": [
      "\n",
      " Train error is : 0.064304547378\n",
      "\n",
      " Test error is : 0.120922107022\n"
     ]
    }
   ],
   "source": [
    "train_error_tfidf_random,test_error_tfidf_random,y_pred_ts_tfidf_random,model_tfidf_random=Train_Test_Error(best_params_tfidf_random[\"alpha\"],X_train_tfidf_standarized_data,y_tr,X_test_tfidf_standarized_data,y_test)"
   ]
  },
  {
   "cell_type": "markdown",
   "metadata": {},
   "source": [
    "Using GridSearch"
   ]
  },
  {
   "cell_type": "code",
   "execution_count": 80,
   "metadata": {},
   "outputs": [
    {
     "name": "stdout",
     "output_type": "stream",
     "text": [
      "\n",
      " Train error is : 0.0665342925035\n",
      "\n",
      " Test error is : 0.119858721659\n"
     ]
    }
   ],
   "source": [
    "train_error_tfidf,test_error_tfid,y_pred_ts_tfid,model_tfidf=Train_Test_Error(best_params_tfidf[\"alpha\"],X_train_tfidf_standarized_data,y_tr,X_test_tfidf_standarized_data,y_test)"
   ]
  },
  {
   "cell_type": "code",
   "execution_count": 81,
   "metadata": {},
   "outputs": [
    {
     "name": "stdout",
     "output_type": "stream",
     "text": [
      "\n",
      "The optimal alpha is : 1.0\n"
     ]
    },
    {
     "data": {
      "image/png": "[encoded data removed]",
      "text/plain": [
       "<Figure size 432x288 with 1 Axes>"
      ]
     },
     "metadata": {},
     "output_type": "display_data"
    },
    {
     "name": "stdout",
     "output_type": "stream",
     "text": [
      "('the misclassification error for each alpha value is : ', array([0.16 , 0.162, 0.162, 0.148, 0.117, 0.202, 0.422]))\n"
     ]
    }
   ],
   "source": [
    "optimal_alpha_tfidf = CV_Error_Plot(X_train_tfidf_standarized_data,y_tr)"
   ]
  },
  {
   "cell_type": "code",
   "execution_count": 82,
   "metadata": {},
   "outputs": [
    {
     "name": "stdout",
     "output_type": "stream",
     "text": [
      "\n",
      "  CLASSIFICATION REPORT\n",
      "             precision    recall  f1-score   support\n",
      "\n",
      "          0       0.62      0.78      0.69      4557\n",
      "          1       0.95      0.90      0.93     21774\n",
      "\n",
      "avg / total       0.89      0.88      0.89     26331\n",
      "\n",
      "\n",
      "  CONFUSION MATRIX\n",
      "[[ 3532  1025]\n",
      " [ 2131 19643]]\n",
      "\n",
      "  Plot of CONFUSION MATRIX\n"
     ]
    },
    {
     "data": {
      "image/png": "[encoded data removed]",
      "text/plain": [
       "<Figure size 432x432 with 2 Axes>"
      ]
     },
     "metadata": {},
     "output_type": "display_data"
    }
   ],
   "source": [
    "from sklearn.metrics import classification_report\n",
    "#Evaluate precission,recall,f1-score\n",
    "classification_report = classification_report(y_test, y_pred_ts_tfid)\n",
    "print \"\\n  CLASSIFICATION REPORT\"\n",
    "print classification_report\n",
    "\n",
    "#determine Confusion matrix  and plotting\n",
    "cm = confusion_matrix(y_test, y_pred_ts_tfid)\n",
    "print \"\\n  CONFUSION MATRIX\"\n",
    "print cm\n",
    "print \"\\n  Plot of CONFUSION MATRIX\"\n",
    "plt.figure(figsize=(6,6))\n",
    "plt.grid(b=False)\n",
    "plot_confusion_matrix(cm, classes=['0','1'], normalize=True, title='Normalized confusion matrix', cmap = plt.cm.Blues)\n",
    "plt.show()"
   ]
  },
  {
   "cell_type": "code",
   "execution_count": 83,
   "metadata": {},
   "outputs": [
    {
     "data": {
      "image/png": "[encoded data removed]",
      "text/plain": [
       "<Figure size 720x720 with 2 Axes>"
      ]
     },
     "metadata": {},
     "output_type": "display_data"
    }
   ],
   "source": [
    "#Important Features in classifying the reviews using BOW\n",
    "importance = get_most_important_features(count_vect, model_tfidf, 10)\n",
    "\n",
    "top_scores = [a[0] for a in importance[0]['tops']]\n",
    "top_words = [a[1] for a in importance[0]['tops']]\n",
    "bottom_scores = [a[0] for a in importance[0]['bottom']]\n",
    "bottom_words = [a[1] for a in importance[0]['bottom']]\n",
    "\n",
    "plot_important_words(top_scores, top_words, bottom_scores, bottom_words, \"Most important words for relevance using BOW\")"
   ]
  },
  {
   "cell_type": "markdown",
   "metadata": {},
   "source": [
    "# SVM-AVGW2V"
   ]
  },
  {
   "cell_type": "markdown",
   "metadata": {},
   "source": [
    "GRIDSEEARCH"
   ]
  },
  {
   "cell_type": "code",
   "execution_count": 13,
   "metadata": {},
   "outputs": [
    {
     "name": "stdout",
     "output_type": "stream",
     "text": [
      "SGDClassifier(alpha=100.0, average=False, class_weight='balanced',\n",
      "       epsilon=0.1, eta0=0.0, fit_intercept=True, l1_ratio=0.15,\n",
      "       learning_rate='optimal', loss='hinge', n_iter=5, n_jobs=1,\n",
      "       penalty='l2', power_t=0.5, random_state=None, shuffle=True,\n",
      "       verbose=0, warm_start=False)\n",
      "{'alpha': 100.0}\n"
     ]
    }
   ],
   "source": [
    "best_estimator_avgw2v,best_params_avgw2v = SGD_GRIDSEARCH(X_train_AvgW2V_standarized_data,y_tr)\n",
    "print best_estimator_avgw2v\n",
    "print best_params_avgw2v"
   ]
  },
  {
   "cell_type": "markdown",
   "metadata": {},
   "source": [
    "RANDOMSEARCH"
   ]
  },
  {
   "cell_type": "code",
   "execution_count": 14,
   "metadata": {},
   "outputs": [
    {
     "name": "stdout",
     "output_type": "stream",
     "text": [
      "SGDClassifier(alpha=0.08765283478824615, average=False,\n",
      "       class_weight='balanced', epsilon=0.1, eta0=0.0, fit_intercept=True,\n",
      "       l1_ratio=0.15, learning_rate='optimal', loss='hinge', n_iter=5,\n",
      "       n_jobs=1, penalty='l2', power_t=0.5, random_state=None,\n",
      "       shuffle=True, verbose=0, warm_start=False)\n",
      "{'alpha': 0.08765283478824615}\n"
     ]
    }
   ],
   "source": [
    "best_estimator_avgw2v_random,best_params_avgw2v_random = SGD_RandomSearchCV(X_train_AvgW2V_standarized_data,y_tr)\n",
    "print best_estimator_avgw2v_random\n",
    "print best_params_avgw2v_random"
   ]
  },
  {
   "cell_type": "markdown",
   "metadata": {},
   "source": [
    "Errors--Randomsearch"
   ]
  },
  {
   "cell_type": "code",
   "execution_count": 15,
   "metadata": {},
   "outputs": [
    {
     "name": "stdout",
     "output_type": "stream",
     "text": [
      "\n",
      " Train error is : 0.196754662934\n",
      "\n",
      " Test error is : 0.224981960427\n"
     ]
    }
   ],
   "source": [
    "train_error_avgw2v_random,test_error_avgw2v_random,y_pred_ts_avgw2v_random,model_avgw2v_random=Train_Test_Error(best_params_avgw2v_random[\"alpha\"],X_train_AvgW2V_standarized_data,y_tr,X_test_AvgW2V_standarized_data,y_test)"
   ]
  },
  {
   "cell_type": "markdown",
   "metadata": {},
   "source": [
    "Errors--Gridsearch"
   ]
  },
  {
   "cell_type": "code",
   "execution_count": 16,
   "metadata": {},
   "outputs": [
    {
     "name": "stdout",
     "output_type": "stream",
     "text": [
      "\n",
      " Train error is : 0.156635526187\n",
      "\n",
      " Test error is : 0.173065967871\n"
     ]
    }
   ],
   "source": [
    "train_error_avgw2v,test_error_avgw2v,y_pred_ts_avgw2v,model_avgw2v=Train_Test_Error(best_params_avgw2v[\"alpha\"],X_train_AvgW2V_standarized_data,y_tr,X_test_AvgW2V_standarized_data,y_test)"
   ]
  },
  {
   "cell_type": "markdown",
   "metadata": {},
   "source": [
    "CV-ErrorPlot"
   ]
  },
  {
   "cell_type": "code",
   "execution_count": 17,
   "metadata": {},
   "outputs": [
    {
     "name": "stdout",
     "output_type": "stream",
     "text": [
      "\n",
      "The optimal alpha is : 10.0\n"
     ]
    },
    {
     "data": {
      "image/png": "[encoded data removed]",
      "text/plain": [
       "<Figure size 432x288 with 1 Axes>"
      ]
     },
     "metadata": {},
     "output_type": "display_data"
    },
    {
     "name": "stdout",
     "output_type": "stream",
     "text": [
      "('the misclassification error for each alpha value is : ', array([0.217, 0.188, 0.189, 0.196, 0.213, 0.143, 0.157]))\n"
     ]
    }
   ],
   "source": [
    "optimal_alpha_AvgW2V = CV_Error_Plot(X_train_AvgW2V_standarized_data,y_tr)"
   ]
  },
  {
   "cell_type": "markdown",
   "metadata": {},
   "source": [
    "Confusion Matrix"
   ]
  },
  {
   "cell_type": "code",
   "execution_count": 19,
   "metadata": {},
   "outputs": [
    {
     "name": "stdout",
     "output_type": "stream",
     "text": [
      "\n",
      "  CLASSIFICATION REPORT\n",
      "             precision    recall  f1-score   support\n",
      "\n",
      "          0       0.41      0.67      0.51      4557\n",
      "          1       0.92      0.80      0.85     21774\n",
      "\n",
      "avg / total       0.83      0.78      0.79     26331\n",
      "\n",
      "\n",
      "  CONFUSION MATRIX\n",
      "[[ 3063  1494]\n",
      " [ 4430 17344]]\n",
      "\n",
      "  Plot of CONFUSION MATRIX\n"
     ]
    },
    {
     "data": {
      "image/png": "[encoded data removed]",
      "text/plain": [
       "<Figure size 432x432 with 2 Axes>"
      ]
     },
     "metadata": {},
     "output_type": "display_data"
    }
   ],
   "source": [
    "from sklearn.metrics import classification_report\n",
    "#Evaluate precission,recall,f1-score\n",
    "classification_report = classification_report(y_test, y_pred_ts_avgw2v_random)\n",
    "print \"\\n  CLASSIFICATION REPORT\"\n",
    "print classification_report\n",
    "\n",
    "#determine Confusion matrix  and plotting\n",
    "cm = confusion_matrix(y_test, y_pred_ts_avgw2v_random)\n",
    "print \"\\n  CONFUSION MATRIX\"\n",
    "print cm\n",
    "print \"\\n  Plot of CONFUSION MATRIX\"\n",
    "plt.figure(figsize=(6,6))\n",
    "plt.grid(b=False)\n",
    "plot_confusion_matrix(cm, classes=['0','1'], normalize=True, title='Normalized confusion matrix', cmap = plt.cm.Blues)\n",
    "plt.show()"
   ]
  },
  {
   "cell_type": "markdown",
   "metadata": {},
   "source": [
    "# SVM- tfidfw2v"
   ]
  },
  {
   "cell_type": "markdown",
   "metadata": {},
   "source": [
    "GridSearch"
   ]
  },
  {
   "cell_type": "code",
   "execution_count": 104,
   "metadata": {},
   "outputs": [
    {
     "name": "stderr",
     "output_type": "stream",
     "text": [
      "/usr/lib/python2.7/dist-packages/sklearn/metrics/classification.py:1113: UndefinedMetricWarning: F-score is ill-defined and being set to 0.0 due to no predicted samples.\n",
      "  'precision', 'predicted', average, warn_for)\n"
     ]
    },
    {
     "name": "stdout",
     "output_type": "stream",
     "text": [
      "SGDClassifier(alpha=0.01, average=False, class_weight='balanced', epsilon=0.1,\n",
      "       eta0=0.0, fit_intercept=True, l1_ratio=0.15,\n",
      "       learning_rate='optimal', loss='hinge', n_iter=5, n_jobs=1,\n",
      "       penalty='l2', power_t=0.5, random_state=None, shuffle=True,\n",
      "       verbose=0, warm_start=False)\n",
      "{'alpha': 0.01}\n"
     ]
    }
   ],
   "source": [
    "best_estimator_TFIDF_W2V,best_params_TFIDF_W2V = SGD_GRIDSEARCH(X_train_TFIDF_W2V_standarized_data,y_tr)\n",
    "print best_estimator_TFIDF_W2V\n",
    "print best_params_TFIDF_W2V"
   ]
  },
  {
   "cell_type": "markdown",
   "metadata": {},
   "source": [
    "RandomSearch"
   ]
  },
  {
   "cell_type": "code",
   "execution_count": 105,
   "metadata": {},
   "outputs": [
    {
     "name": "stdout",
     "output_type": "stream",
     "text": [
      "SGDClassifier(alpha=0.11750198876056539, average=False,\n",
      "       class_weight='balanced', epsilon=0.1, eta0=0.0, fit_intercept=True,\n",
      "       l1_ratio=0.15, learning_rate='optimal', loss='hinge', n_iter=5,\n",
      "       n_jobs=1, penalty='l2', power_t=0.5, random_state=None,\n",
      "       shuffle=True, verbose=0, warm_start=False)\n",
      "{'alpha': 0.11750198876056539}\n"
     ]
    }
   ],
   "source": [
    "best_estimator_TFIDF_W2V_random,best_params_TFIDF_W2V_random = SGD_RandomSearchCV(X_train_TFIDF_W2V_standarized_data,y_tr)\n",
    "print best_estimator_TFIDF_W2V_random\n",
    "print best_params_TFIDF_W2V_random"
   ]
  },
  {
   "cell_type": "markdown",
   "metadata": {},
   "source": [
    "Errors- Random search"
   ]
  },
  {
   "cell_type": "code",
   "execution_count": 106,
   "metadata": {},
   "outputs": [
    {
     "name": "stdout",
     "output_type": "stream",
     "text": [
      "\n",
      " Train error is : 0.220289053091\n",
      "\n",
      " Test error is : 0.269909992025\n"
     ]
    }
   ],
   "source": [
    "train_error_TFIDF_W2V_random,test_error_TFIDF_W2V_random,y_pred_ts_TFIDF_W2V_random,model_TFIDF_W2V_random=Train_Test_Error(best_params_TFIDF_W2V_random[\"alpha\"],X_train_TFIDF_W2V_standarized_data,y_tr,X_test_TFIDF_W2V_standarized_data,y_test)"
   ]
  },
  {
   "cell_type": "markdown",
   "metadata": {},
   "source": [
    "Errors- Grid search"
   ]
  },
  {
   "cell_type": "code",
   "execution_count": 107,
   "metadata": {},
   "outputs": [
    {
     "name": "stdout",
     "output_type": "stream",
     "text": [
      "\n",
      " Train error is : 0.221786400182\n",
      "\n",
      " Test error is : 0.271694960313\n"
     ]
    }
   ],
   "source": [
    "train_error_TFIDF_W2V,test_error_TFIDF_W2V,y_pred_ts_TFIDF_W2V,model_TFIDF_W2V=Train_Test_Error(best_params_TFIDF_W2V[\"alpha\"],X_train_TFIDF_W2V_standarized_data,y_tr,X_test_TFIDF_W2V_standarized_data,y_test)"
   ]
  },
  {
   "cell_type": "markdown",
   "metadata": {},
   "source": [
    "CV-Error Plot"
   ]
  },
  {
   "cell_type": "code",
   "execution_count": 109,
   "metadata": {},
   "outputs": [
    {
     "name": "stdout",
     "output_type": "stream",
     "text": [
      "\n",
      "The optimal alpha is : 0.01\n"
     ]
    },
    {
     "data": {
      "image/png": "[encoded data removed]",
      "text/plain": [
       "<Figure size 432x288 with 1 Axes>"
      ]
     },
     "metadata": {},
     "output_type": "display_data"
    },
    {
     "name": "stdout",
     "output_type": "stream",
     "text": [
      "('the misclassification error for each alpha value is : ', array([0.298, 0.232, 0.218, 0.221, 0.396, 0.413, 0.386]))\n"
     ]
    }
   ],
   "source": [
    "optimal_alpha_tfidf = CV_Error_Plot(X_train_TFIDF_W2V_standarized_data,y_tr)"
   ]
  },
  {
   "cell_type": "markdown",
   "metadata": {},
   "source": [
    "Confusion Matrix"
   ]
  },
  {
   "cell_type": "code",
   "execution_count": 110,
   "metadata": {},
   "outputs": [
    {
     "name": "stdout",
     "output_type": "stream",
     "text": [
      "\n",
      "  CLASSIFICATION REPORT\n",
      "             precision    recall  f1-score   support\n",
      "\n",
      "          0       0.36      0.70      0.47      4557\n",
      "          1       0.92      0.73      0.82     21774\n",
      "\n",
      "avg / total       0.82      0.73      0.76     26331\n",
      "\n",
      "\n",
      "  CONFUSION MATRIX\n",
      "[[ 3199  1358]\n",
      " [ 5796 15978]]\n",
      "\n",
      "  Plot of CONFUSION MATRIX\n"
     ]
    },
    {
     "data": {
      "image/png": "[encoded data removed]",
      "text/plain": [
       "<Figure size 432x432 with 2 Axes>"
      ]
     },
     "metadata": {},
     "output_type": "display_data"
    }
   ],
   "source": [
    "from sklearn.metrics import classification_report\n",
    "#Evaluate precission,recall,f1-score\n",
    "classification_report = classification_report(y_test, y_pred_ts_TFIDF_W2V)\n",
    "print \"\\n  CLASSIFICATION REPORT\"\n",
    "print classification_report\n",
    "\n",
    "#determine Confusion matrix  and plotting\n",
    "cm = confusion_matrix(y_test, y_pred_ts_TFIDF_W2V)\n",
    "print \"\\n  CONFUSION MATRIX\"\n",
    "print cm\n",
    "print \"\\n  Plot of CONFUSION MATRIX\"\n",
    "plt.figure(figsize=(6,6))\n",
    "plt.grid(b=False)\n",
    "plot_confusion_matrix(cm, classes=['0','1'], normalize=True, title='Normalized confusion matrix', cmap = plt.cm.Blues)\n",
    "plt.show()"
   ]
  },
  {
   "cell_type": "markdown",
   "metadata": {},
   "source": [
    "# Summary"
   ]
  },
  {
   "cell_type": "code",
   "execution_count": 111,
   "metadata": {},
   "outputs": [
    {
     "name": "stdout",
     "output_type": "stream",
     "text": [
      "+---------------------+---------------+---------------------+----------------+------------+\n",
      "| Vectorization Model | SearchMethood |        Alpha        | Training Error | Test Error |\n",
      "+---------------------+---------------+---------------------+----------------+------------+\n",
      "|         Bow         |      GRID     |         1.0         |      6.31      |   11.01    |\n",
      "|         Bow         |     Random    |  0.7538459825421077 |      6.48      |    11.4    |\n",
      "|        TFIDF        |      GRID     |         1.0         |      6.65      |   11.99    |\n",
      "|        TFIDF        |     Random    |  0.8142445523064147 |      6.43      |   12.09    |\n",
      "|        AvgW2V       |      GRID     |         10.0        |     14.59      |   17.12    |\n",
      "|        AvgW2V       |     Random    |  0.0784302921674187 |     19.54      |   22.46    |\n",
      "|      TFIDF-W2V      |      GRID     |         0.01        |     22.18      |   27.17    |\n",
      "|      TFIDF-W2V      |     Random    | 0.11750198876056539 |     22.03      |   26.99    |\n",
      "+---------------------+---------------+---------------------+----------------+------------+\n"
     ]
    }
   ],
   "source": [
    "from prettytable import PrettyTable\n",
    "x = PrettyTable()\n",
    "x.field_names = [\"Vectorization Model\", \"SearchMethood\", \"Alpha\", \"Training Error\",\"Test Error\"]\n",
    "\n",
    "x.add_row([\"Bow\", \"GRID\", best_params_bow[\"alpha\"], round(train_error_bow*100,2),round(test_error_bow*100,2)])\n",
    "x.add_row([\"Bow\", \"Random\", best_params_bow_random[\"alpha\"],round(train_error_bow_random*100,2),round(test_error_bow_random*100,2)])\n",
    "\n",
    "x.add_row([\"TFIDF\", \"GRID\", best_params_tfidf[\"alpha\"],round(train_error_tfidf*100,2),round(test_error_tfid*100,2)])\n",
    "x.add_row([\"TFIDF\", \"Random\", best_params_tfidf_random[\"alpha\"],round(train_error_tfidf_random*100,2),round(test_error_tfidf_random*100,2)])\n",
    "\n",
    "x.add_row([\"AvgW2V\", \"GRID\", best_params_avgw2v[\"alpha\"],round(train_error_avgw2v*100,2),round(test_error_avgw2v*100,2)])\n",
    "x.add_row([\"AvgW2V\", \"Random\", best_params_avgw2v_random[\"alpha\"],round(train_error_avgw2v_random*100,2),round(test_error_avgw2v_random*100,2)])\n",
    "\n",
    "x.add_row([\"TFIDF-W2V\", \"GRID\", best_params_TFIDF_W2V[\"alpha\"],round(train_error_TFIDF_W2V*100,2),round(test_error_TFIDF_W2V*100,2)])\n",
    "x.add_row([\"TFIDF-W2V\", \"Random\", best_params_TFIDF_W2V_random[\"alpha\"],round(train_error_TFIDF_W2V_random*100,2),round(test_error_TFIDF_W2V_random*100,2)])\n",
    "\n",
    "\n",
    "print(x)"
   ]
  },
  {
   "cell_type": "markdown",
   "metadata": {},
   "source": [
    "It is observed that SVM(SGD classifier with Hinge loss) performed well better with BOW and TFIDF when compared with AvgW2v,TFIDF-AVGW2V."
   ]
  },
  {
   "cell_type": "markdown",
   "metadata": {},
   "source": [
    "# SVC-AvgW2V "
   ]
  },
  {
   "cell_type": "code",
   "execution_count": 9,
   "metadata": {},
   "outputs": [],
   "source": [
    "import math as m\n",
    "def SVM_GRIDSEARCH(X_train,y_train):\n",
    "    tuned_parameters = [{'C': [m.pow(2,-3), m.pow(2,-2), m.pow(2,0), m.pow(2,1), m.pow(2,2)],                  \n",
    "                        'gamma': [m.pow(2,-3), m.pow(2,-2), m.pow(2,0), m.pow(2,1), m.pow(2,2)]\n",
    "                            }]  \n",
    "    svm=SVC(class_weight = \"balanced\",kernel='rbf')\n",
    "    model= GridSearchCV(svm,tuned_parameters, scoring = 'f1', cv=3,n_jobs=-1)\n",
    "    model.fit(X_train, y_train)\n",
    "    best_estimator= model.best_estimator_\n",
    "    best_params = model.best_params_\n",
    "    \n",
    "    return best_estimator,best_params"
   ]
  },
  {
   "cell_type": "code",
   "execution_count": 10,
   "metadata": {},
   "outputs": [
    {
     "name": "stdout",
     "output_type": "stream",
     "text": [
      "SVC(C=4.0, cache_size=200, class_weight='balanced', coef0=0.0,\n",
      "  decision_function_shape=None, degree=3, gamma=0.125, kernel='rbf',\n",
      "  max_iter=-1, probability=False, random_state=None, shrinking=True,\n",
      "  tol=0.001, verbose=False)\n",
      "{'C': 4.0, 'gamma': 0.125}\n"
     ]
    }
   ],
   "source": [
    "best_estimator_avgw2v_svm,best_params_avgw2v_svm = SVM_GRIDSEARCH(X_train_AvgW2V_standarized_data,y_tr)\n",
    "print best_estimator_avgw2v_svm\n",
    "print best_params_avgw2v_svm"
   ]
  },
  {
   "cell_type": "code",
   "execution_count": 11,
   "metadata": {},
   "outputs": [
    {
     "name": "stdout",
     "output_type": "stream",
     "text": [
      "\n",
      " Train error is : 0.000488265355945\n",
      "\n",
      " Test error is : 0.169078272758\n"
     ]
    }
   ],
   "source": [
    "svm=SVC(C=4.0, cache_size=1600, class_weight='balanced', coef0=0.0,\n",
    "  decision_function_shape=None, degree=3, gamma=0.125, kernel='rbf',\n",
    "  max_iter=-1, probability=False, random_state=None, shrinking=True,\n",
    "  tol=0.001, verbose=False)\n",
    "\n",
    "svm_model = svm.fit(X_train_AvgW2V_standarized_data, y_tr)\n",
    "\n",
    "#Training Error\n",
    "y_pred_tr = svm_model.predict(X_train_AvgW2V_standarized_data)\n",
    "acc_tr = accuracy_score(y_tr, y_pred_tr)\n",
    "train_error = 1-acc_tr\n",
    "print('\\n Train error is : {}'.format(train_error))\n",
    "\n",
    "#Test Error\n",
    "y_pred_ts = svm_model.predict(X_test_AvgW2V_standarized_data)\n",
    "acc_ts = accuracy_score(y_test, y_pred_ts)\n",
    "test_error = 1-acc_ts\n",
    "print('\\n Test error is : {}'.format(test_error))"
   ]
  },
  {
   "cell_type": "code",
   "execution_count": 13,
   "metadata": {},
   "outputs": [
    {
     "name": "stdout",
     "output_type": "stream",
     "text": [
      "\n",
      "  CLASSIFICATION REPORT\n",
      "             precision    recall  f1-score   support\n",
      "\n",
      "          0       0.72      0.04      0.07      4557\n",
      "          1       0.83      1.00      0.91     21774\n",
      "\n",
      "avg / total       0.81      0.83      0.76     26331\n",
      "\n",
      "\n",
      "  CONFUSION MATRIX\n",
      "[[  170  4387]\n",
      " [   65 21709]]\n",
      "\n",
      "  Plot of CONFUSION MATRIX\n"
     ]
    },
    {
     "data": {
      "image/png": "[encoded data removed]",
      "text/plain": [
       "<Figure size 432x432 with 2 Axes>"
      ]
     },
     "metadata": {},
     "output_type": "display_data"
    }
   ],
   "source": [
    "from sklearn.metrics import classification_report\n",
    "#Evaluate precission,recall,f1-score\n",
    "classification_report = classification_report(y_test, y_pred_ts)\n",
    "print \"\\n  CLASSIFICATION REPORT\"\n",
    "print classification_report\n",
    "\n",
    "#determine Confusion matrix  and plotting\n",
    "cm = confusion_matrix(y_test, y_pred_ts)\n",
    "print \"\\n  CONFUSION MATRIX\"\n",
    "print cm\n",
    "print \"\\n  Plot of CONFUSION MATRIX\"\n",
    "plt.figure(figsize=(6,6))\n",
    "plt.grid(b=False)\n",
    "plot_confusion_matrix(cm, classes=['0','1'], normalize=False, title='Normalized confusion matrix', cmap = plt.cm.Blues)\n",
    "plt.show()"
   ]
  },
  {
   "cell_type": "code",
   "execution_count": null,
   "metadata": {},
   "outputs": [],
   "source": []
  }
 ],
 "metadata": {
  "kernelspec": {
   "display_name": "Python 2",
   "language": "python",
   "name": "python2"
  },
  "language_info": {
   "codemirror_mode": {
    "name": "ipython",
    "version": 2
   },
   "file_extension": ".py",
   "mimetype": "text/x-python",
   "name": "python",
   "nbconvert_exporter": "python",
   "pygments_lexer": "ipython2",
   "version": "2.7.13"
  }
 },
 "nbformat": 4,
 "nbformat_minor": 2
}
