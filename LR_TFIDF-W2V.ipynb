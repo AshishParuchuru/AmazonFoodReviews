{
 "cells": [
  {
   "cell_type": "code",
   "execution_count": 1,
   "metadata": {},
   "outputs": [
    {
     "name": "stderr",
     "output_type": "stream",
     "text": [
      "/usr/lib/python2.7/dist-packages/sklearn/cross_validation.py:44: DeprecationWarning: This module was deprecated in version 0.18 in favor of the model_selection module into which all the refactored classes and functions are moved. Also note that the interface of the new CV iterators are different from that of this module. This module will be removed in 0.20.\n",
      "  \"This module will be removed in 0.20.\", DeprecationWarning)\n",
      "/usr/lib/python2.7/dist-packages/sklearn/grid_search.py:43: DeprecationWarning: This module was deprecated in version 0.18 in favor of the model_selection module into which all the refactored classes and functions are moved. This module will be removed in 0.20.\n",
      "  DeprecationWarning)\n"
     ]
    }
   ],
   "source": [
    "import numpy as np\n",
    "import pandas as pd\n",
    "import matplotlib.pyplot as plt\n",
    "from sklearn.cross_validation import train_test_split\n",
    "from sklearn.metrics import accuracy_score\n",
    "from sklearn.cross_validation import cross_val_score\n",
    "from collections import Counter\n",
    "from sklearn.metrics import classification_report\n",
    "from sklearn import cross_validation\n",
    "from sklearn.metrics import confusion_matrix\n",
    "from sklearn.grid_search import GridSearchCV\n",
    "from sklearn.linear_model import LogisticRegression\n",
    "import pickle\n",
    "from sklearn.feature_extraction.text import CountVectorizer"
   ]
  },
  {
   "cell_type": "code",
   "execution_count": 2,
   "metadata": {},
   "outputs": [],
   "source": [
    "filename='X_train'\n",
    "infile = open(filename,'rb')\n",
    "X_train=pickle.load(infile)\n",
    "infile.close()\n",
    "\n",
    "filename='y_train'\n",
    "infile = open(filename,'rb')\n",
    "y_train=pickle.load(infile)\n",
    "infile.close()\n",
    "\n",
    "filename='X_test'\n",
    "infile = open(filename,'rb')\n",
    "X_test=pickle.load(infile)\n",
    "infile.close()\n",
    "\n",
    "filename='y_test'\n",
    "infile = open(filename,'rb')\n",
    "y_test=pickle.load(infile)\n",
    "infile.close()"
   ]
  },
  {
   "cell_type": "code",
   "execution_count": 3,
   "metadata": {},
   "outputs": [],
   "source": [
    "filename='TFIDF_W2V_Test_standarized_data'\n",
    "infile = open(filename,'rb')\n",
    "X_test_standarized_data=pickle.load(infile)\n",
    "infile.close()\n",
    "\n",
    "filename='TFIDF_W2V_Train_standarized_data'\n",
    "infile = open(filename,'rb')\n",
    "X_Train_standarized_data=pickle.load(infile)\n",
    "infile.close()"
   ]
  },
  {
   "cell_type": "code",
   "execution_count": 17,
   "metadata": {},
   "outputs": [],
   "source": [
    "filename='tfidfW2V_sent_vectors_Test'\n",
    "infile = open(filename,'rb')\n",
    "X_test_tfidfW2V=pickle.load(infile)\n",
    "infile.close()\n",
    "\n",
    "filename='tfidfW2V_sent_vectors_Train'\n",
    "infile = open(filename,'rb')\n",
    "X_Train_tfidfW2V=pickle.load(infile)\n",
    "infile.close()"
   ]
  },
  {
   "cell_type": "markdown",
   "metadata": {},
   "source": [
    "# GridSearch using L2 Regulizer"
   ]
  },
  {
   "cell_type": "code",
   "execution_count": 7,
   "metadata": {},
   "outputs": [
    {
     "name": "stdout",
     "output_type": "stream",
     "text": [
      "LogisticRegression(C=100, class_weight=None, dual=False, fit_intercept=True,\n",
      "          intercept_scaling=1, max_iter=100, multi_class='ovr', n_jobs=1,\n",
      "          penalty='l2', random_state=None, solver='liblinear', tol=0.0001,\n",
      "          verbose=0, warm_start=False)\n",
      "0.8964391890381562\n"
     ]
    }
   ],
   "source": [
    "tuned_parameters = [{'C': [10**-4, 10**-2, 10**0, 10**2, 10**4]}]\n",
    "model = GridSearchCV(LogisticRegression(), tuned_parameters, scoring = 'f1', cv=5,n_jobs=-1)\n",
    "model.fit(X_Train_standarized_data, y_train)\n",
    "print(model.best_estimator_)\n",
    "print(model.score(X_test_standarized_data, y_test))"
   ]
  },
  {
   "cell_type": "markdown",
   "metadata": {},
   "source": [
    "# GridSearch using L1 Regulizer"
   ]
  },
  {
   "cell_type": "code",
   "execution_count": 8,
   "metadata": {},
   "outputs": [
    {
     "name": "stdout",
     "output_type": "stream",
     "text": [
      "LogisticRegression(C=100, class_weight=None, dual=False, fit_intercept=True,\n",
      "          intercept_scaling=1, max_iter=100, multi_class='ovr', n_jobs=1,\n",
      "          penalty='l1', random_state=None, solver='liblinear', tol=0.0001,\n",
      "          verbose=0, warm_start=False)\n",
      "0.8964638562296036\n"
     ]
    }
   ],
   "source": [
    "tuned_parameters = [{'C': [10**-4, 10**-2, 10**0, 10**2, 10**4]}]\n",
    "model = GridSearchCV(LogisticRegression(penalty='l1'), tuned_parameters, scoring = 'f1', cv=5,n_jobs=-1)\n",
    "model.fit(X_Train_standarized_data, y_train)\n",
    "print(model.best_estimator_)\n",
    "print(model.score(X_test_standarized_data, y_test))"
   ]
  },
  {
   "cell_type": "markdown",
   "metadata": {},
   "source": [
    "# Random searchCV"
   ]
  },
  {
   "cell_type": "code",
   "execution_count": 9,
   "metadata": {},
   "outputs": [
    {
     "name": "stdout",
     "output_type": "stream",
     "text": [
      "LogisticRegression(C=0.8428636112152159, class_weight=None, dual=False,\n",
      "          fit_intercept=True, intercept_scaling=1, max_iter=100,\n",
      "          multi_class='ovr', n_jobs=1, penalty='l2', random_state=None,\n",
      "          solver='liblinear', tol=0.0001, verbose=0, warm_start=False)\n",
      "0.8964777400321831\n"
     ]
    }
   ],
   "source": [
    "from scipy.stats import uniform\n",
    "from sklearn.model_selection import RandomizedSearchCV\n",
    "\n",
    "penalty = ['l1', 'l2']\n",
    "C = uniform(loc=0, scale=1)\n",
    "hyperparameters = dict(C=C, penalty=penalty)\n",
    "model = RandomizedSearchCV(LogisticRegression(), hyperparameters, scoring = 'f1',cv=5, n_jobs=-1)\n",
    "model.fit(X_Train_standarized_data, y_train)\n",
    "print(model.best_estimator_)\n",
    "print(model.score(X_test_standarized_data, y_test))"
   ]
  },
  {
   "cell_type": "markdown",
   "metadata": {},
   "source": [
    "# Comparing the Performance,Error and Sparsity on Varying the Hyper-Parameter using L1 Regularizer"
   ]
  },
  {
   "cell_type": "code",
   "execution_count": 10,
   "metadata": {},
   "outputs": [
    {
     "name": "stdout",
     "output_type": "stream",
     "text": [
      "('For C=', 10, 'Non-Zero elements =', 50, 'error=', 17.5952299570848)\n",
      "\n",
      "\n",
      "('For C=', 0.1, 'Non-Zero elements =', 50, 'error=', 17.678781664198095)\n",
      "\n",
      "\n",
      "('For C=', 0.01, 'Non-Zero elements =', 41, 'error=', 17.36736166495766)\n",
      "\n",
      "\n",
      "('For C=', 0.001, 'Non-Zero elements =', 14, 'error=', 16.911625080703352)\n",
      "\n",
      "\n"
     ]
    }
   ],
   "source": [
    "for lamda in (10,0.1,0.01,0.001):\n",
    "    log_reg = LogisticRegression(C=lamda, penalty='l1');\n",
    "    log_reg.fit(X_Train_standarized_data, y_train);\n",
    "    w = log_reg.coef_\n",
    "    error=(1-log_reg.score(X_test_standarized_data, y_test))*100\n",
    "    print (\"For C=\",lamda,\"Non-Zero elements =\" ,np.count_nonzero(w),\"error=\",error)\n",
    "    print(\"\\n\")"
   ]
  },
  {
   "cell_type": "markdown",
   "metadata": {},
   "source": [
    "It is observed that on increasing the lamda(1/C), the error of the model is increasing leading to underfit of the model and reducing the influence of loss term."
   ]
  },
  {
   "cell_type": "markdown",
   "metadata": {},
   "source": [
    "# Plotting Confusion matrix for Best Combination and better Accuracy Model"
   ]
  },
  {
   "cell_type": "code",
   "execution_count": 12,
   "metadata": {},
   "outputs": [],
   "source": [
    "best_log_reg=LogisticRegression(C=100, class_weight=None, dual=False, fit_intercept=True,\n",
    "          intercept_scaling=1, max_iter=100, multi_class='ovr', n_jobs=1,\n",
    "          penalty='l2', random_state=None, solver='liblinear', tol=0.0001,\n",
    "          verbose=0, warm_start=False)\n",
    "\n",
    "best_log_reg.fit(X_Train_standarized_data, y_train)\n",
    "# predict the response\n",
    "pred = best_log_reg.predict(X_test_standarized_data)"
   ]
  },
  {
   "cell_type": "code",
   "execution_count": 13,
   "metadata": {},
   "outputs": [],
   "source": [
    "import itertools\n",
    "import numpy as np\n",
    "import matplotlib.pyplot as plt\n",
    "from sklearn.metrics import confusion_matrix\n",
    "plt.rcParams[\"font.family\"] = 'DejaVu Sans'\n",
    "\n",
    "def plot_confusion_matrix(cm, classes,\n",
    "                          normalize=False,\n",
    "                          title='Confusion matrix',\n",
    "                          cmap=plt.cm.Blues):\n",
    "    if normalize:\n",
    "        cm = cm.astype('float') / cm.sum(axis=1)[:, np.newaxis]\n",
    "\n",
    "    plt.imshow(cm, interpolation='nearest', cmap=cmap)\n",
    "    plt.title(title)\n",
    "    plt.colorbar()\n",
    "    tick_marks = np.arange(len(classes))\n",
    "    plt.xticks(tick_marks, classes, rotation=90)\n",
    "    plt.yticks(tick_marks, classes)\n",
    "\n",
    "    fmt = '.2f' if normalize else 'd'\n",
    "    thresh = cm.max() / 2.\n",
    "    for i, j in itertools.product(range(cm.shape[0]), range(cm.shape[1])):\n",
    "        plt.text(j, i, format(cm[i, j], fmt),\n",
    "                 horizontalalignment=\"center\",\n",
    "                 color=\"white\" if cm[i, j] > thresh else \"black\")\n",
    "\n",
    "    plt.tight_layout()\n",
    "    plt.ylabel('True label')\n",
    "    plt.xlabel('Predicted label')"
   ]
  },
  {
   "cell_type": "code",
   "execution_count": 14,
   "metadata": {},
   "outputs": [
    {
     "name": "stdout",
     "output_type": "stream",
     "text": [
      "('\\nThe accuracy of the Logistitc Regression classifier(using BOW vectorization) is ', 82.4047700429152)\n",
      "\n",
      "  CLASSIFICATION REPORT\n",
      "             precision    recall  f1-score   support\n",
      "\n",
      "          0       0.49      0.36      0.42      4557\n",
      "          1       0.87      0.92      0.90     21774\n",
      "\n",
      "avg / total       0.81      0.82      0.81     26331\n",
      "\n",
      "\n",
      "  CONFUSION MATRIX\n",
      "[[ 1646  2911]\n",
      " [ 1722 20052]]\n",
      "\n",
      "  Plot of CONFUSION MATRIX\n"
     ]
    },
    {
     "data": {
      "image/png": "[encoded data removed]",
      "text/plain": [
       "<Figure size 432x432 with 2 Axes>"
      ]
     },
     "metadata": {},
     "output_type": "display_data"
    }
   ],
   "source": [
    "from sklearn.metrics import classification_report\n",
    "# evaluate accuracy\n",
    "acc = accuracy_score(y_test, pred) * 100\n",
    "print('\\nThe accuracy of the Logistitc Regression classifier(using BOW vectorization) is ',acc)\n",
    "\n",
    "#Evaluate precission,recall,f1-score\n",
    "classification_report = classification_report(y_test, pred)\n",
    "print \"\\n  CLASSIFICATION REPORT\"\n",
    "print classification_report\n",
    "\n",
    "#determine Confusion matrix  and plotting\n",
    "cm = confusion_matrix(y_test, pred)\n",
    "print \"\\n  CONFUSION MATRIX\"\n",
    "print cm\n",
    "print \"\\n  Plot of CONFUSION MATRIX\"\n",
    "plt.figure(figsize=(6,6))\n",
    "plt.grid(b=False)\n",
    "plot_confusion_matrix(cm, classes=['0','1'], normalize=True, title='Normalized confusion matrix', cmap = plt.cm.Blues)\n",
    "plt.show()"
   ]
  },
  {
   "cell_type": "markdown",
   "metadata": {},
   "source": [
    "# Multi Colinearity check:"
   ]
  },
  {
   "cell_type": "code",
   "execution_count": 15,
   "metadata": {},
   "outputs": [],
   "source": [
    "w_Original=best_log_reg.coef_"
   ]
  },
  {
   "cell_type": "code",
   "execution_count": 16,
   "metadata": {},
   "outputs": [
    {
     "data": {
      "text/plain": [
       "array([[-0.53495376,  0.32924108, -0.39144135,  0.09139121, -0.00245181,\n",
       "         0.53336926, -0.64176161, -0.98621997,  0.21323041, -0.08726774,\n",
       "         0.93819486,  0.04224673,  0.02688802, -0.1570975 ,  0.08568159,\n",
       "         0.11167365, -0.19315135, -0.17860845,  0.16241489, -0.35089321,\n",
       "         0.32765217, -0.33091496, -0.28772121,  0.14614684,  0.13002313,\n",
       "         0.56142397,  0.11714822, -0.26478867,  0.11218678, -0.20861824,\n",
       "        -0.19701278, -0.13739714, -0.27601405, -0.13958322,  0.34448573,\n",
       "        -0.03033419, -0.24357783, -0.13980016, -0.17916213, -0.35047211,\n",
       "        -0.22908409,  0.27048707,  0.10208014, -0.03812223,  0.45234672,\n",
       "         0.43292951,  0.37445256,  0.35225269,  0.25076292,  0.09371438]])"
      ]
     },
     "execution_count": 16,
     "metadata": {},
     "output_type": "execute_result"
    }
   ],
   "source": [
    "w_Original"
   ]
  },
  {
   "cell_type": "code",
   "execution_count": 28,
   "metadata": {},
   "outputs": [],
   "source": [
    "noise = np.random.normal(0,1)\n",
    "for i in range(len(X_Train_tfidfW2V)):\n",
    "    for j in range(50):\n",
    "        X_Train_tfidfW2V[i][j]+=noise"
   ]
  },
  {
   "cell_type": "code",
   "execution_count": 29,
   "metadata": {},
   "outputs": [],
   "source": [
    "from sklearn.preprocessing import StandardScaler\n",
    "scaler = StandardScaler(with_mean=False)\n",
    "X_Train_standarized_data = scaler.fit_transform(X_Train_tfidfW2V)\n",
    "X_Test_standarized_data = scaler.fit_transform(X_test_tfidfW2V)"
   ]
  },
  {
   "cell_type": "code",
   "execution_count": 30,
   "metadata": {},
   "outputs": [],
   "source": [
    "best_log_reg=LogisticRegression(C=100, class_weight=None, dual=False, fit_intercept=True,\n",
    "          intercept_scaling=1, max_iter=100, multi_class='ovr', n_jobs=1,\n",
    "          penalty='l2', random_state=None, solver='liblinear', tol=0.0001,\n",
    "          verbose=0, warm_start=False)\n",
    "\n",
    "best_log_reg.fit(X_Train_standarized_data, y_train)\n",
    "# predict the response\n",
    "pred = best_log_reg.predict(X_Test_standarized_data)"
   ]
  },
  {
   "cell_type": "code",
   "execution_count": 31,
   "metadata": {},
   "outputs": [],
   "source": [
    "w_noise = best_log_reg.coef_"
   ]
  },
  {
   "cell_type": "code",
   "execution_count": 32,
   "metadata": {},
   "outputs": [
    {
     "data": {
      "text/plain": [
       "array([[-0.5349709 ,  0.32929161, -0.39145433,  0.09133974, -0.00250324,\n",
       "         0.53350628, -0.64167525, -0.98622654,  0.21325832, -0.08739369,\n",
       "         0.93824896,  0.04217979,  0.02684   , -0.157132  ,  0.08567696,\n",
       "         0.1116578 , -0.19313282, -0.17865577,  0.16246008, -0.35083472,\n",
       "         0.3275952 , -0.33093092, -0.28778768,  0.14615999,  0.13001389,\n",
       "         0.56132379,  0.11711874, -0.26484469,  0.11230781, -0.20870973,\n",
       "        -0.19703187, -0.13738934, -0.27601528, -0.13954351,  0.34439925,\n",
       "        -0.03026634, -0.24354616, -0.1397571 , -0.17929241, -0.35049664,\n",
       "        -0.22901905,  0.27058359,  0.10204408, -0.03818714,  0.45228647,\n",
       "         0.43295809,  0.37445487,  0.35238268,  0.25081465,  0.0936692 ]])"
      ]
     },
     "execution_count": 32,
     "metadata": {},
     "output_type": "execute_result"
    }
   ],
   "source": [
    "w_noise"
   ]
  },
  {
   "cell_type": "code",
   "execution_count": 33,
   "metadata": {},
   "outputs": [],
   "source": [
    "count=0\n",
    "sum=[count+1 for i in range(len(w_noise[0])) if (w_noise[0,i]-w_Original[0,i])/w_Original[0,i]>=0.4]"
   ]
  },
  {
   "cell_type": "code",
   "execution_count": 34,
   "metadata": {},
   "outputs": [
    {
     "data": {
      "text/plain": [
       "0.0"
      ]
     },
     "execution_count": 34,
     "metadata": {},
     "output_type": "execute_result"
    }
   ],
   "source": [
    "float(len(sum))/len(w_Original[0])"
   ]
  },
  {
   "cell_type": "markdown",
   "metadata": {},
   "source": [
    "It is observered that there is ni=o multi-colinearity between the features."
   ]
  }
 ],
 "metadata": {
  "kernelspec": {
   "display_name": "Python 2",
   "language": "python",
   "name": "python2"
  },
  "language_info": {
   "codemirror_mode": {
    "name": "ipython",
    "version": 2
   },
   "file_extension": ".py",
   "mimetype": "text/x-python",
   "name": "python",
   "nbconvert_exporter": "python",
   "pygments_lexer": "ipython2",
   "version": "2.7.13"
  }
 },
 "nbformat": 4,
 "nbformat_minor": 2
}
