{
 "cells": [
  {
   "cell_type": "code",
   "execution_count": 1,
   "metadata": {},
   "outputs": [
    {
     "name": "stderr",
     "output_type": "stream",
     "text": [
      "/usr/lib/python2.7/dist-packages/sklearn/cross_validation.py:44: DeprecationWarning: This module was deprecated in version 0.18 in favor of the model_selection module into which all the refactored classes and functions are moved. Also note that the interface of the new CV iterators are different from that of this module. This module will be removed in 0.20.\n",
      "  \"This module will be removed in 0.20.\", DeprecationWarning)\n",
      "/usr/lib/python2.7/dist-packages/sklearn/grid_search.py:43: DeprecationWarning: This module was deprecated in version 0.18 in favor of the model_selection module into which all the refactored classes and functions are moved. This module will be removed in 0.20.\n",
      "  DeprecationWarning)\n",
      "/usr/lib/python2.7/dist-packages/sklearn/ensemble/weight_boosting.py:29: DeprecationWarning: numpy.core.umath_tests is an internal NumPy module and should not be imported. It will be removed in a future NumPy release.\n",
      "  from numpy.core.umath_tests import inner1d\n"
     ]
    }
   ],
   "source": [
    "import numpy as np\n",
    "import pandas as pd\n",
    "import matplotlib.pyplot as plt\n",
    "from sklearn.cross_validation import train_test_split\n",
    "from sklearn.metrics import accuracy_score\n",
    "from sklearn.cross_validation import cross_val_score\n",
    "from collections import Counter\n",
    "from sklearn.metrics import classification_report\n",
    "from sklearn import cross_validation\n",
    "from sklearn.metrics import confusion_matrix\n",
    "from sklearn.grid_search import GridSearchCV\n",
    "from sklearn.ensemble import RandomForestClassifier\n",
    "import pickle\n",
    "from sklearn.feature_extraction.text import CountVectorizer\n",
    "from sklearn.linear_model import SGDClassifier\n",
    "from scipy.stats import uniform\n",
    "from sklearn.model_selection import RandomizedSearchCV\n",
    "from wordcloud import wordcloud"
   ]
  },
  {
   "cell_type": "code",
   "execution_count": 2,
   "metadata": {},
   "outputs": [],
   "source": [
    "filename='X_train'\n",
    "infile = open(filename,'rb')\n",
    "X_train=pickle.load(infile)\n",
    "infile.close()\n",
    "\n",
    "filename='y_train'\n",
    "infile = open(filename,'rb')\n",
    "y_tr=pickle.load(infile)\n",
    "infile.close()\n",
    "\n",
    "filename='X_test'\n",
    "infile = open(filename,'rb')\n",
    "X_test=pickle.load(infile)\n",
    "infile.close()\n",
    "\n",
    "filename='y_test'\n",
    "infile = open(filename,'rb')\n",
    "y_test=pickle.load(infile)\n",
    "infile.close()"
   ]
  },
  {
   "cell_type": "code",
   "execution_count": 3,
   "metadata": {},
   "outputs": [],
   "source": [
    "#Unpickling\n",
    "import pickle\n",
    "\n",
    "infile = open('count_vect_BOW','rb')\n",
    "count_vect=pickle.load(infile)\n",
    "infile.close()\n",
    "\n",
    "infile = open('Train_BOW_Std','rb')\n",
    "X_train_Bow_standarized_data=pickle.load(infile)\n",
    "infile.close()\n",
    "\n",
    "infile = open('Test_BOW_Std','rb')\n",
    "X_test_BOW_standarized_data=pickle.load(infile)\n",
    "infile.close()\n",
    "\n",
    "infile = open('tf_idf_vect_TF-IDF','rb')\n",
    "tf_idf_vect = pickle.load(infile)\n",
    "infile.close()\n",
    "\n",
    "infile = open('Train_TFIDF_Std','rb')\n",
    "X_train_tfidf_standarized_data=pickle.load(infile)\n",
    "infile.close()\n",
    "\n",
    "infile = open('Test_TFIDF_Std','rb')\n",
    "X_test_tfidf_standarized_data=pickle.load(infile)\n",
    "infile.close()\n",
    "\n",
    "infile = open('Train_AvgW2V_std','rb')\n",
    "X_train_AvgW2V_standarized_data=pickle.load(infile)\n",
    "infile.close()\n",
    "\n",
    "\n",
    "infile = open('Test_AvgW2V_std','rb')\n",
    "X_test_AvgW2V_standarized_data=pickle.load(infile)\n",
    "infile.close()\n",
    "\n",
    "infile = open('TFIDF_W2V_Train_standarized_data','rb')\n",
    "X_train_TFIDF_W2V_standarized_data=pickle.load(infile)\n",
    "infile.close()\n"
   ]
  },
  {
   "cell_type": "code",
   "execution_count": 4,
   "metadata": {},
   "outputs": [],
   "source": [
    "infile = open('TFIDF_W2V_Test_standarized_data','rb')\n",
    "X_test_TFIDF_W2V_standarized_data=pickle.load(infile)\n",
    "infile.close()"
   ]
  },
  {
   "cell_type": "markdown",
   "metadata": {},
   "source": [
    "# GridSearch"
   ]
  },
  {
   "cell_type": "code",
   "execution_count": 5,
   "metadata": {},
   "outputs": [],
   "source": [
    "def RF_GRIDSEARCH(X_train,y_train):\n",
    "    tuned_parameters = [{ \"n_estimators\": range(100,1001,100),\n",
    "                         \"max_depth\" : range(1,31,5)\n",
    "                    }]  \n",
    "    rf=RandomForestClassifier(class_weight = \"balanced\",n_jobs=-1)\n",
    "    model= GridSearchCV(rf,tuned_parameters, scoring = 'f1', cv=5,n_jobs=-1)\n",
    "    model.fit(X_train, y_train)\n",
    "    best_estimator= model.best_estimator_\n",
    "    best_params = model.best_params_\n",
    "    \n",
    "    return best_estimator,best_params\n"
   ]
  },
  {
   "cell_type": "markdown",
   "metadata": {},
   "source": [
    "# Training_Testing Errors "
   ]
  },
  {
   "cell_type": "code",
   "execution_count": 6,
   "metadata": {},
   "outputs": [],
   "source": [
    "def Train_Test_Error(n_estimators,max_depth,X_train,y_train,X_test,y_test):\n",
    "    rf=RandomForestClassifier(n_jobs=-1,class_weight = \"balanced\",max_depth=max_depth,n_estimators=n_estimators)\n",
    "    rf_model = rf.fit(X_train, y_train)\n",
    "\n",
    "    #Training Error\n",
    "    y_pred_tr = rf_model.predict(X_train)\n",
    "    acc_tr = accuracy_score(y_train, y_pred_tr)\n",
    "    train_error = 1-acc_tr\n",
    "    print('\\n Train error is : {}'.format(train_error))\n",
    "\n",
    "    #Test Error\n",
    "    y_pred_ts = rf_model.predict(X_test)\n",
    "    acc_ts = accuracy_score(y_test, y_pred_ts)\n",
    "    test_error = 1-acc_ts\n",
    "    print('\\n Test error is : {}'.format(test_error))\n",
    "    \n",
    "    return train_error,test_error,y_pred_ts,rf_model"
   ]
  },
  {
   "cell_type": "markdown",
   "metadata": {},
   "source": [
    "# CV_Error_Plot"
   ]
  },
  {
   "cell_type": "code",
   "execution_count": 7,
   "metadata": {},
   "outputs": [],
   "source": [
    "def CV_Error_Plot(n_estimators,max_depth,X_Train,y_Train):\n",
    "    n_estimators=range(100,1001,100)\n",
    "\n",
    "    # empty list that will hold cv scores\n",
    "    cv_scores = []\n",
    "\n",
    "    for estimators in n_estimators:\n",
    "        rf=RandomForestClassifier(n_jobs=-1,class_weight = \"balanced\",max_depth=max_depth,min_samples_split=10,n_estimators=estimators)\n",
    "        scores = cross_val_score(rf, X_Train, y_Train, cv=3, scoring='accuracy',n_jobs=-1)\n",
    "        cv_scores.append(scores.mean())\n",
    "\n",
    "    # changing to misclassification error\n",
    "    MSE = [1 - x for x in cv_scores]\n",
    "\n",
    "    # determining best alpha\n",
    "    optimal_estimators = n_estimators[MSE.index(min(MSE))]\n",
    "    print('\\nThe optimal alpha is : {}'.format(optimal_estimators))\n",
    "\n",
    "  \n",
    "    plt.plot(n_estimators, MSE)\n",
    "\n",
    "    for xy in zip(n_estimators, np.round(MSE,3)):\n",
    "        plt.annotate('(%s, %s)' % xy, xy=xy, textcoords='data')\n",
    "\n",
    "    plt.xlabel('No.of Base Models')\n",
    "    plt.ylabel('Misclassification Error')\n",
    "    plt.show()\n",
    "    print(\"the misclassification error for each n_estimators value is : \", np.round(MSE,3)) \n",
    "    return optimal_estimators"
   ]
  },
  {
   "cell_type": "markdown",
   "metadata": {},
   "source": [
    "# Confusion Matrix"
   ]
  },
  {
   "cell_type": "code",
   "execution_count": 8,
   "metadata": {},
   "outputs": [],
   "source": [
    "import itertools\n",
    "import numpy as np\n",
    "import matplotlib.pyplot as plt\n",
    "from sklearn.metrics import confusion_matrix\n",
    "plt.rcParams[\"font.family\"] = 'DejaVu Sans'\n",
    "\n",
    "def plot_confusion_matrix(cm, classes,\n",
    "                          normalize=False,\n",
    "                          title='Confusion matrix',\n",
    "                          cmap=plt.cm.Blues):\n",
    "    if normalize:\n",
    "        cm = cm.astype('float') / cm.sum(axis=1)[:, np.newaxis]\n",
    "\n",
    "    plt.imshow(cm, interpolation='nearest', cmap=cmap)\n",
    "    plt.title(title)\n",
    "    plt.colorbar()\n",
    "    tick_marks = np.arange(len(classes))\n",
    "    plt.xticks(tick_marks, classes, rotation=90)\n",
    "    plt.yticks(tick_marks, classes)\n",
    "\n",
    "    fmt = '.2f' if normalize else 'd'\n",
    "    thresh = cm.max() / 2.\n",
    "    for i, j in itertools.product(range(cm.shape[0]), range(cm.shape[1])):\n",
    "        plt.text(j, i, format(cm[i, j], fmt),\n",
    "                 horizontalalignment=\"center\",\n",
    "                 color=\"white\" if cm[i, j] > thresh else \"black\")\n",
    "\n",
    "    plt.tight_layout()\n",
    "    plt.ylabel('True label')\n",
    "    plt.xlabel('Predicted label')"
   ]
  },
  {
   "cell_type": "markdown",
   "metadata": {},
   "source": [
    "# RF_BOW"
   ]
  },
  {
   "cell_type": "markdown",
   "metadata": {},
   "source": [
    "Using GridSearch"
   ]
  },
  {
   "cell_type": "code",
   "execution_count": 11,
   "metadata": {},
   "outputs": [
    {
     "name": "stdout",
     "output_type": "stream",
     "text": [
      "RandomForestClassifier(bootstrap=True, class_weight='balanced',\n",
      "            criterion='gini', max_depth=26, max_features='auto',\n",
      "            max_leaf_nodes=None, min_impurity_split=1e-07,\n",
      "            min_samples_leaf=1, min_samples_split=2,\n",
      "            min_weight_fraction_leaf=0.0, n_estimators=900, n_jobs=-1,\n",
      "            oob_score=False, random_state=None, verbose=0,\n",
      "            warm_start=False)\n",
      "{'n_estimators': 900, 'max_depth': 26}\n"
     ]
    }
   ],
   "source": [
    "best_estimator_bow,best_params_bow = RF_GRIDSEARCH(X_train_Bow_standarized_data,y_tr)\n",
    "print best_estimator_bow\n",
    "print best_params_bow "
   ]
  },
  {
   "cell_type": "markdown",
   "metadata": {},
   "source": [
    "Errors using Grid Search"
   ]
  },
  {
   "cell_type": "code",
   "execution_count": 12,
   "metadata": {},
   "outputs": [
    {
     "name": "stdout",
     "output_type": "stream",
     "text": [
      "\n",
      " Train error is : 0.0555645975066\n",
      "\n",
      " Test error is : 0.104439633892\n"
     ]
    }
   ],
   "source": [
    "train_error_bow,test_error_bow,y_pred_ts_bow,model_bow=\\\n",
    "Train_Test_Error(best_params_bow[\"n_estimators\"],best_params_bow[\"max_depth\"],X_train_Bow_standarized_data,y_tr,X_test_BOW_standarized_data,y_test)"
   ]
  },
  {
   "cell_type": "markdown",
   "metadata": {},
   "source": [
    "Error Plot"
   ]
  },
  {
   "cell_type": "code",
   "execution_count": 13,
   "metadata": {},
   "outputs": [
    {
     "name": "stdout",
     "output_type": "stream",
     "text": [
      "\n",
      "The optimal alpha is : 900\n"
     ]
    },
    {
     "data": {
      "image/png": "[encoded data removed]",
      "text/plain": [
       "<Figure size 432x288 with 1 Axes>"
      ]
     },
     "metadata": {},
     "output_type": "display_data"
    },
    {
     "name": "stdout",
     "output_type": "stream",
     "text": [
      "('the misclassification error for each n_estimators value is : ', array([0.107, 0.103, 0.101, 0.101, 0.101, 0.1  , 0.1  , 0.1  , 0.1  ,\n",
      "       0.1  ]))\n"
     ]
    }
   ],
   "source": [
    "optimal_estimators_bow = CV_Error_Plot(best_params_bow[\"n_estimators\"],best_params_bow[\"max_depth\"],X_train_Bow_standarized_data,y_tr)"
   ]
  },
  {
   "cell_type": "code",
   "execution_count": 14,
   "metadata": {},
   "outputs": [
    {
     "name": "stdout",
     "output_type": "stream",
     "text": [
      "\n",
      "  CLASSIFICATION REPORT\n",
      "             precision    recall  f1-score   support\n",
      "\n",
      "          0       0.70      0.69      0.70      4557\n",
      "          1       0.94      0.94      0.94     21774\n",
      "\n",
      "avg / total       0.89      0.90      0.90     26331\n",
      "\n",
      "\n",
      "  CONFUSION MATRIX\n",
      "[[ 3148  1409]\n",
      " [ 1341 20433]]\n",
      "\n",
      "  Plot of CONFUSION MATRIX\n"
     ]
    },
    {
     "data": {
      "image/png": "[encoded data removed]",
      "text/plain": [
       "<Figure size 432x432 with 2 Axes>"
      ]
     },
     "metadata": {},
     "output_type": "display_data"
    }
   ],
   "source": [
    "from sklearn.metrics import classification_report\n",
    "#Evaluate precission,recall,f1-score\n",
    "classification_report = classification_report(y_test, y_pred_ts_bow)\n",
    "print \"\\n  CLASSIFICATION REPORT\"\n",
    "print classification_report\n",
    "\n",
    "#determine Confusion matrix  and plotting\n",
    "cm = confusion_matrix(y_test, y_pred_ts_bow)\n",
    "print \"\\n  CONFUSION MATRIX\"\n",
    "print cm\n",
    "print \"\\n  Plot of CONFUSION MATRIX\"\n",
    "plt.figure(figsize=(6,6))\n",
    "plt.grid(b=False)\n",
    "plot_confusion_matrix(cm, classes=['0','1'], normalize=False, title='confusion matrix', cmap = plt.cm.Blues)\n",
    "plt.show()"
   ]
  },
  {
   "cell_type": "code",
   "execution_count": 9,
   "metadata": {},
   "outputs": [],
   "source": [
    "infile = open('model_bow_RF','rb')\n",
    "model_bow = pickle.load(infile)\n",
    "infile.close()\n",
    "\n",
    "infile = open('model_tfidf_RF','rb')\n",
    "model_tfidf=pickle.load(infile)\n",
    "infile.close()"
   ]
  },
  {
   "cell_type": "code",
   "execution_count": 10,
   "metadata": {},
   "outputs": [],
   "source": [
    "index_to_word = {v:k for k,v in count_vect.vocabulary_.items()}"
   ]
  },
  {
   "cell_type": "code",
   "execution_count": null,
   "metadata": {},
   "outputs": [],
   "source": [
    "weights3=[(index_to_word[i],model_bow.feature_importances_[i]) for i in np.nonzero(model_bow.feature_importances_)[0]]\n",
    "weights4=sorted(weights3,reverse=True,key=lambda x: x[1])\n",
    "dict_words= dict()\n",
    "for i in range(len(weights4)):\n",
    "    dict_words[weights4[i][0]] = weights4[i][1] \n",
    "print ('Postive Words::',weights4[0:20])\n",
    "print ('Negative Words::',weights4[-20:])"
   ]
  },
  {
   "cell_type": "code",
   "execution_count": null,
   "metadata": {},
   "outputs": [],
   "source": [
    "wordcloud = WordCloud(width = 800, height = 800, \n",
    "                background_color ='white', \n",
    "                max_words=2000, \n",
    "                min_font_size = 10).generate_from_frequencies(dict_words) \n",
    "  \n",
    "# plot the WordCloud image                        \n",
    "plt.figure(figsize = (8, 8), facecolor = None) \n",
    "plt.imshow(wordcloud) \n",
    "plt.axis(\"off\") \n",
    "plt.tight_layout(pad = 0) \n",
    "  \n",
    "plt.show() "
   ]
  },
  {
   "cell_type": "markdown",
   "metadata": {},
   "source": [
    "# TFIDF"
   ]
  },
  {
   "cell_type": "code",
   "execution_count": 15,
   "metadata": {},
   "outputs": [
    {
     "name": "stdout",
     "output_type": "stream",
     "text": [
      "RandomForestClassifier(bootstrap=True, class_weight='balanced',\n",
      "            criterion='gini', max_depth=26, max_features='auto',\n",
      "            max_leaf_nodes=None, min_impurity_split=1e-07,\n",
      "            min_samples_leaf=1, min_samples_split=2,\n",
      "            min_weight_fraction_leaf=0.0, n_estimators=800, n_jobs=-1,\n",
      "            oob_score=False, random_state=None, verbose=0,\n",
      "            warm_start=False)\n",
      "{'n_estimators': 800, 'max_depth': 26}\n"
     ]
    }
   ],
   "source": [
    "best_estimator_tfidf,best_params_tfidf = RF_GRIDSEARCH(X_train_tfidf_standarized_data,y_tr)\n",
    "print best_estimator_tfidf\n",
    "print best_params_tfidf"
   ]
  },
  {
   "cell_type": "markdown",
   "metadata": {},
   "source": [
    "Using GridSearch"
   ]
  },
  {
   "cell_type": "code",
   "execution_count": 16,
   "metadata": {},
   "outputs": [
    {
     "name": "stdout",
     "output_type": "stream",
     "text": [
      "\n",
      " Train error is : 0.000667295986459\n",
      "\n",
      " Test error is : 0.168850404466\n"
     ]
    }
   ],
   "source": [
    "train_error_tfidf,test_error_tfid,y_pred_ts_tfid,model_tfidf=Train_Test_Error(best_params_tfidf[\"n_estimators\"],best_params_tfidf[\"max_depth\"],X_train_AvgW2V_standarized_data,y_tr,X_test_AvgW2V_standarized_data,y_test)"
   ]
  },
  {
   "cell_type": "code",
   "execution_count": 17,
   "metadata": {},
   "outputs": [
    {
     "name": "stdout",
     "output_type": "stream",
     "text": [
      "\n",
      "The optimal alpha is : 800\n"
     ]
    },
    {
     "data": {
      "image/png": "[encoded data removed]",
      "text/plain": [
       "<Figure size 432x288 with 1 Axes>"
      ]
     },
     "metadata": {},
     "output_type": "display_data"
    },
    {
     "name": "stdout",
     "output_type": "stream",
     "text": [
      "('the misclassification error for each n_estimators value is : ', array([0.122, 0.121, 0.121, 0.121, 0.121, 0.121, 0.121, 0.121, 0.121,\n",
      "       0.121]))\n"
     ]
    }
   ],
   "source": [
    "optimal_estimators_tfidf = CV_Error_Plot(best_params_tfidf[\"n_estimators\"],best_params_tfidf[\"max_depth\"],X_train_AvgW2V_standarized_data,y_tr)"
   ]
  },
  {
   "cell_type": "code",
   "execution_count": 18,
   "metadata": {},
   "outputs": [
    {
     "name": "stdout",
     "output_type": "stream",
     "text": [
      "\n",
      "  CLASSIFICATION REPORT\n",
      "             precision    recall  f1-score   support\n",
      "\n",
      "          0       0.79      0.03      0.06      4557\n",
      "          1       0.83      1.00      0.91     21774\n",
      "\n",
      "avg / total       0.82      0.83      0.76     26331\n",
      "\n",
      "\n",
      "  CONFUSION MATRIX\n",
      "[[  151  4406]\n",
      " [   40 21734]]\n",
      "\n",
      "  Plot of CONFUSION MATRIX\n"
     ]
    },
    {
     "data": {
      "image/png": "[encoded data removed]",
      "text/plain": [
       "<Figure size 432x432 with 2 Axes>"
      ]
     },
     "metadata": {},
     "output_type": "display_data"
    }
   ],
   "source": [
    "from sklearn.metrics import classification_report\n",
    "#Evaluate precission,recall,f1-score\n",
    "classification_report = classification_report(y_test, y_pred_ts_tfid)\n",
    "print \"\\n  CLASSIFICATION REPORT\"\n",
    "print classification_report\n",
    "\n",
    "#determine Confusion matrix  and plotting\n",
    "cm = confusion_matrix(y_test, y_pred_ts_tfid)\n",
    "print \"\\n  CONFUSION MATRIX\"\n",
    "print cm\n",
    "print \"\\n  Plot of CONFUSION MATRIX\"\n",
    "plt.figure(figsize=(6,6))\n",
    "plt.grid(b=False)\n",
    "plot_confusion_matrix(cm, classes=['0','1'], normalize=False, title='Normalized confusion matrix', cmap = plt.cm.Blues)\n",
    "plt.show()"
   ]
  },
  {
   "cell_type": "code",
   "execution_count": null,
   "metadata": {},
   "outputs": [],
   "source": [
    "index_to_word = {v:k for k,v in tf_idf_vect.vocabulary_.items()}\n",
    "\n",
    "weights3=[(index_to_word[i],model_tfidf.feature_importances_[i]) for i in np.nonzero(model_tfidf.feature_importances_)[0]]\n",
    "weights4=sorted(weights3,reverse=True,key=lambda x: x[1])\n",
    "dict_words= dict()\n",
    "for i in range(len(weights4)):\n",
    "    dict_words[weights4[i][0]] = weights4[i][1] \n",
    "\n",
    "print ('Postive Words::',weights4[0:20])\n",
    "print ('Negative Words::',weights4[-20:])"
   ]
  },
  {
   "cell_type": "code",
   "execution_count": null,
   "metadata": {},
   "outputs": [],
   "source": [
    "wordcloud = WordCloud(width = 800, height = 800, \n",
    "                background_color ='white', \n",
    "                max_words=2000, \n",
    "                min_font_size = 10).generate_from_frequencies(dict_words) \n",
    "  \n",
    "# plot the WordCloud image                        \n",
    "plt.figure(figsize = (8, 8), facecolor = None) \n",
    "plt.imshow(wordcloud) \n",
    "plt.axis(\"off\") \n",
    "plt.tight_layout(pad = 0) \n",
    "  \n",
    "plt.show() "
   ]
  },
  {
   "cell_type": "markdown",
   "metadata": {},
   "source": [
    "# RF-AVGW2V"
   ]
  },
  {
   "cell_type": "markdown",
   "metadata": {},
   "source": [
    "GRIDSEEARCH"
   ]
  },
  {
   "cell_type": "code",
   "execution_count": 18,
   "metadata": {},
   "outputs": [
    {
     "name": "stdout",
     "output_type": "stream",
     "text": [
      "RandomForestClassifier(bootstrap=True, class_weight='balanced',\n",
      "            criterion='gini', max_depth=16, max_features='auto',\n",
      "            max_leaf_nodes=None, min_impurity_split=1e-07,\n",
      "            min_samples_leaf=1, min_samples_split=2,\n",
      "            min_weight_fraction_leaf=0.0, n_estimators=600, n_jobs=-1,\n",
      "            oob_score=False, random_state=None, verbose=0,\n",
      "            warm_start=False)\n",
      "{'n_estimators': 600, 'max_depth': 16}\n"
     ]
    }
   ],
   "source": [
    "best_estimator_avgw2v,best_params_avgw2v = RF_GRIDSEARCH(X_train_AvgW2V_standarized_data,y_tr)\n",
    "print best_estimator_avgw2v\n",
    "print best_params_avgw2v"
   ]
  },
  {
   "cell_type": "markdown",
   "metadata": {},
   "source": [
    "Errors--Gridsearch"
   ]
  },
  {
   "cell_type": "code",
   "execution_count": 19,
   "metadata": {},
   "outputs": [
    {
     "name": "stdout",
     "output_type": "stream",
     "text": [
      "\n",
      " Train error is : 0.0150385729631\n",
      "\n",
      " Test error is : 0.162356158141\n"
     ]
    }
   ],
   "source": [
    "train_error_avgw2v,test_error_avgw2v,y_pred_ts_avgw2v,model_avgw2v=Train_Test_Error(best_params_avgw2v[\"n_estimators\"],best_params_avgw2v[\"max_depth\"],X_train_AvgW2V_standarized_data,y_tr,X_test_AvgW2V_standarized_data,y_test)"
   ]
  },
  {
   "cell_type": "markdown",
   "metadata": {},
   "source": [
    "CV-ErrorPlot"
   ]
  },
  {
   "cell_type": "code",
   "execution_count": 20,
   "metadata": {},
   "outputs": [
    {
     "name": "stdout",
     "output_type": "stream",
     "text": [
      "\n",
      "The optimal alpha is : 300\n"
     ]
    },
    {
     "data": {
      "image/png": "[encoded data removed]",
      "text/plain": [
       "<Figure size 432x288 with 1 Axes>"
      ]
     },
     "metadata": {},
     "output_type": "display_data"
    },
    {
     "name": "stdout",
     "output_type": "stream",
     "text": [
      "('the misclassification error for each n_estimators value is : ', array([0.12 , 0.12 , 0.119, 0.119, 0.119, 0.12 , 0.12 , 0.12 , 0.12 ,\n",
      "       0.12 ]))\n"
     ]
    }
   ],
   "source": [
    "optimal_estimators_AvgW2V = CV_Error_Plot(best_params_avgw2v[\"n_estimators\"],best_params_avgw2v[\"max_depth\"],X_train_AvgW2V_standarized_data,y_tr)"
   ]
  },
  {
   "cell_type": "markdown",
   "metadata": {},
   "source": [
    "Confusion Matrix"
   ]
  },
  {
   "cell_type": "code",
   "execution_count": 23,
   "metadata": {},
   "outputs": [
    {
     "name": "stdout",
     "output_type": "stream",
     "text": [
      "\n",
      "  CLASSIFICATION REPORT\n",
      "             precision    recall  f1-score   support\n",
      "\n",
      "          0       0.66      0.13      0.21      4557\n",
      "          1       0.84      0.99      0.91     21774\n",
      "\n",
      "avg / total       0.81      0.84      0.79     26331\n",
      "\n",
      "\n",
      "  CONFUSION MATRIX\n",
      "[[  582  3975]\n",
      " [  300 21474]]\n",
      "\n",
      "  Plot of CONFUSION MATRIX\n"
     ]
    },
    {
     "data": {
      "image/png": "[encoded data removed]",
      "text/plain": [
       "<Figure size 432x432 with 2 Axes>"
      ]
     },
     "metadata": {},
     "output_type": "display_data"
    }
   ],
   "source": [
    "from sklearn.metrics import classification_report\n",
    "#Evaluate precission,recall,f1-score\n",
    "classification_report = classification_report(y_test, y_pred_ts_avgw2v)\n",
    "print \"\\n  CLASSIFICATION REPORT\"\n",
    "print classification_report\n",
    "\n",
    "#determine Confusion matrix  and plotting\n",
    "cm = confusion_matrix(y_test, y_pred_ts_avgw2v)\n",
    "print \"\\n  CONFUSION MATRIX\"\n",
    "print cm\n",
    "print \"\\n  Plot of CONFUSION MATRIX\"\n",
    "plt.figure(figsize=(6,6))\n",
    "plt.grid(b=False)\n",
    "plot_confusion_matrix(cm, classes=['0','1'], normalize=False, title='Normalized confusion matrix', cmap = plt.cm.Blues)\n",
    "plt.show()"
   ]
  },
  {
   "cell_type": "markdown",
   "metadata": {},
   "source": [
    "# RF- tfidfw2v"
   ]
  },
  {
   "cell_type": "markdown",
   "metadata": {},
   "source": [
    "GridSearch"
   ]
  },
  {
   "cell_type": "code",
   "execution_count": 25,
   "metadata": {},
   "outputs": [
    {
     "name": "stdout",
     "output_type": "stream",
     "text": [
      "RandomForestClassifier(bootstrap=True, class_weight='balanced',\n",
      "            criterion='gini', max_depth=16, max_features='auto',\n",
      "            max_leaf_nodes=None, min_impurity_split=1e-07,\n",
      "            min_samples_leaf=1, min_samples_split=2,\n",
      "            min_weight_fraction_leaf=0.0, n_estimators=900, n_jobs=-1,\n",
      "            oob_score=False, random_state=None, verbose=0,\n",
      "            warm_start=False)\n",
      "{'n_estimators': 900, 'max_depth': 16}\n"
     ]
    }
   ],
   "source": [
    "best_estimator_TFIDF_W2V,best_params_TFIDF_W2V = RF_GRIDSEARCH(X_train_TFIDF_W2V_standarized_data,y_tr)\n",
    "print best_estimator_TFIDF_W2V\n",
    "print best_params_TFIDF_W2V"
   ]
  },
  {
   "cell_type": "markdown",
   "metadata": {},
   "source": [
    "Errors- Grid search"
   ]
  },
  {
   "cell_type": "code",
   "execution_count": 26,
   "metadata": {},
   "outputs": [
    {
     "name": "stdout",
     "output_type": "stream",
     "text": [
      "\n",
      " Train error is : 0.0124833176003\n",
      "\n",
      " Test error is : 0.164255060575\n"
     ]
    }
   ],
   "source": [
    "train_error_TFIDF_W2V,test_error_TFIDF_W2V,y_pred_ts_TFIDF_W2V,model_TFIDF_W2V=\\\n",
    "Train_Test_Error(best_params_TFIDF_W2V[\"n_estimators\"],best_params_TFIDF_W2V[\"max_depth\"],X_train_TFIDF_W2V_standarized_data,y_tr,X_test_TFIDF_W2V_standarized_data,y_test)"
   ]
  },
  {
   "cell_type": "markdown",
   "metadata": {},
   "source": [
    "CV-Error Plot"
   ]
  },
  {
   "cell_type": "code",
   "execution_count": 27,
   "metadata": {},
   "outputs": [
    {
     "name": "stdout",
     "output_type": "stream",
     "text": [
      "\n",
      "The optimal alpha is : 800\n"
     ]
    },
    {
     "data": {
      "image/png": "[encoded data removed]",
      "text/plain": [
       "<Figure size 432x288 with 1 Axes>"
      ]
     },
     "metadata": {},
     "output_type": "display_data"
    },
    {
     "name": "stdout",
     "output_type": "stream",
     "text": [
      "('the misclassification error for each n_estimators value is : ', array([0.129, 0.128, 0.128, 0.128, 0.127, 0.128, 0.127, 0.127, 0.127,\n",
      "       0.128]))\n"
     ]
    }
   ],
   "source": [
    "optimal_estimators_tfidf = \\\n",
    "CV_Error_Plot(best_params_TFIDF_W2V[\"n_estimators\"],best_params_TFIDF_W2V[\"max_depth\"],X_train_TFIDF_W2V_standarized_data,y_tr)"
   ]
  },
  {
   "cell_type": "markdown",
   "metadata": {},
   "source": [
    "Confusion Matrix"
   ]
  },
  {
   "cell_type": "code",
   "execution_count": 28,
   "metadata": {},
   "outputs": [
    {
     "name": "stdout",
     "output_type": "stream",
     "text": [
      "\n",
      "  CLASSIFICATION REPORT\n",
      "             precision    recall  f1-score   support\n",
      "\n",
      "          0       0.67      0.10      0.18      4557\n",
      "          1       0.84      0.99      0.91     21774\n",
      "\n",
      "avg / total       0.81      0.84      0.78     26331\n",
      "\n",
      "\n",
      "  CONFUSION MATRIX\n",
      "[[  465  4092]\n",
      " [  233 21541]]\n",
      "\n",
      "  Plot of CONFUSION MATRIX\n"
     ]
    },
    {
     "data": {
      "image/png": "[encoded data removed]",
      "text/plain": [
       "<Figure size 432x432 with 2 Axes>"
      ]
     },
     "metadata": {},
     "output_type": "display_data"
    }
   ],
   "source": [
    "from sklearn.metrics import classification_report\n",
    "#Evaluate precission,recall,f1-score\n",
    "classification_report = classification_report(y_test, y_pred_ts_TFIDF_W2V)\n",
    "print \"\\n  CLASSIFICATION REPORT\"\n",
    "print classification_report\n",
    "\n",
    "#determine Confusion matrix  and plotting\n",
    "cm = confusion_matrix(y_test, y_pred_ts_TFIDF_W2V)\n",
    "print \"\\n  CONFUSION MATRIX\"\n",
    "print cm\n",
    "print \"\\n  Plot of CONFUSION MATRIX\"\n",
    "plt.figure(figsize=(6,6))\n",
    "plt.grid(b=False)\n",
    "plot_confusion_matrix(cm, classes=['0','1'], normalize=False, title='Normalized confusion matrix', cmap = plt.cm.Blues)\n",
    "plt.show()"
   ]
  },
  {
   "cell_type": "markdown",
   "metadata": {},
   "source": [
    "# Summary"
   ]
  },
  {
   "cell_type": "code",
   "execution_count": 21,
   "metadata": {},
   "outputs": [
    {
     "name": "stdout",
     "output_type": "stream",
     "text": [
      "+---------------------+---------------+--------------+-----------+----------------+------------+\n",
      "| Vectorization Model | Seach Methood | n_estimators | max_depth | Training Error | Test Error |\n",
      "+---------------------+---------------+--------------+-----------+----------------+------------+\n",
      "|         Bow         |      GRID     |     900      |     26    |      5.56      |   10.44    |\n",
      "|        TFIDF        |      GRID     |     800      |     26    |      0.07      |   16.89    |\n",
      "|        AvgW2V       |      GRID     |     600      |     16    |      1.5       |   16.23    |\n",
      "|      TFIDF-W2V      |      GRID     |     900      |     16    |      1.42      |   16.24    |\n",
      "+---------------------+---------------+--------------+-----------+----------------+------------+\n"
     ]
    }
   ],
   "source": [
    "from prettytable import PrettyTable\n",
    "x = PrettyTable()\n",
    "x.field_names = [\"Vectorization Model\",\"Seach Methood\",\"n_estimators\",\"max_depth\", \"Training Error\",\"Test Error\"]\n",
    "\n",
    "x.add_row([\"Bow\", \"GRID\", best_params_bow[\"n_estimators\"],best_params_bow[\"max_depth\"], round(train_error_bow*100,2),round(test_error_bow*100,2)])\n",
    "\n",
    "x.add_row([\"TFIDF\", \"GRID\", best_params_tfidf[\"n_estimators\"],best_params_tfidf[\"max_depth\"],round(train_error_tfidf*100,2),round(test_error_tfid*100,2)])\n",
    "\n",
    "x.add_row([\"AvgW2V\", \"GRID\", 600,16,1.5,16.23])\n",
    "\n",
    "x.add_row([\"TFIDF-W2V\", \"GRID\", 900,16,1.42,16.24])\n",
    "\n",
    "print(x)"
   ]
  },
  {
   "cell_type": "code",
   "execution_count": null,
   "metadata": {},
   "outputs": [],
   "source": []
  }
 ],
 "metadata": {
  "kernelspec": {
   "display_name": "Python 2",
   "language": "python",
   "name": "python2"
  },
  "language_info": {
   "codemirror_mode": {
    "name": "ipython",
    "version": 2
   },
   "file_extension": ".py",
   "mimetype": "text/x-python",
   "name": "python",
   "nbconvert_exporter": "python",
   "pygments_lexer": "ipython2",
   "version": "2.7.13"
  }
 },
 "nbformat": 4,
 "nbformat_minor": 2
}
