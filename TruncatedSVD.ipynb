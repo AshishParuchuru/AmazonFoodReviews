{
 "cells": [
  {
   "cell_type": "code",
   "execution_count": 1,
   "metadata": {},
   "outputs": [
    {
     "name": "stderr",
     "output_type": "stream",
     "text": [
      "/usr/lib/python2.7/dist-packages/sklearn/cross_validation.py:44: DeprecationWarning: This module was deprecated in version 0.18 in favor of the model_selection module into which all the refactored classes and functions are moved. Also note that the interface of the new CV iterators are different from that of this module. This module will be removed in 0.20.\n",
      "  \"This module will be removed in 0.20.\", DeprecationWarning)\n"
     ]
    }
   ],
   "source": [
    "import numpy as np\n",
    "import pandas as pd\n",
    "import matplotlib.pyplot as plt\n",
    "from sklearn.cross_validation import train_test_split\n",
    "from sklearn.neighbors import KNeighborsClassifier\n",
    "from sklearn.metrics import accuracy_score\n",
    "from sklearn.cross_validation import cross_val_score\n",
    "from collections import Counter\n",
    "from sklearn.metrics import accuracy_score\n",
    "from sklearn import cross_validation\n",
    "\n",
    "from scipy.sparse import lil_matrix\n",
    "from nltk.tokenize import word_tokenize\n",
    "import warnings\n",
    "warnings.filterwarnings(\"ignore\")\n",
    "\n",
    "\n",
    "import sqlite3\n",
    "import nltk\n",
    "import string\n",
    "import matplotlib.pyplot as plt\n",
    "import seaborn as sns\n",
    "from sklearn.feature_extraction.text import TfidfTransformer\n",
    "from sklearn.feature_extraction.text import TfidfVectorizer\n",
    "\n",
    "from sklearn.feature_extraction.text import CountVectorizer\n",
    "from sklearn.metrics import confusion_matrix\n",
    "from sklearn import metrics\n",
    "from sklearn.metrics import roc_curve, auc\n",
    "from nltk.stem.porter import PorterStemmer"
   ]
  },
  {
   "cell_type": "code",
   "execution_count": 2,
   "metadata": {},
   "outputs": [],
   "source": [
    "#Unpickling\n",
    "import pickle\n",
    "filename='filtered_data'\n",
    "infile = open(filename,'rb')\n",
    "final=pickle.load(infile)\n",
    "infile.close()"
   ]
  },
  {
   "cell_type": "code",
   "execution_count": 3,
   "metadata": {},
   "outputs": [],
   "source": [
    "X_TSVD=final['CleanedText']"
   ]
  },
  {
   "cell_type": "code",
   "execution_count": 4,
   "metadata": {},
   "outputs": [],
   "source": [
    "X_train_2=X_TSVD.tolist()"
   ]
  },
  {
   "cell_type": "markdown",
   "metadata": {},
   "source": [
    "# WordCloud"
   ]
  },
  {
   "cell_type": "code",
   "execution_count": 5,
   "metadata": {},
   "outputs": [],
   "source": [
    "from wordcloud import WordCloud\n",
    "\n",
    "def wordclouds(string):   \n",
    "    words = WordCloud(width = 800, height = 800, \n",
    "                    background_color ='white', \n",
    "                    max_words=2000, \n",
    "                    min_font_size = 10)\n",
    "    wc=words.generate(string)    \n",
    "    return wc\n",
    "\n",
    "def Print_clusters(model):\n",
    "    \n",
    "    #Picking top 5 clusters for wordcloud\n",
    "    unique, counts = np.unique(model.labels_, return_counts=True)\n",
    "    a=sorted(dict(zip(unique, counts)).items(), key=lambda x: x[1],reverse=True)\n",
    "    clusters= [i[0] for i in a[0:5]]\n",
    "    \n",
    "    #ploting top 5 clusters\n",
    "    fig = plt.figure(figsize = (20,20))\n",
    "    count = 1\n",
    "    for i in clusters:\n",
    "        str1=\"\"\n",
    "        #print(\"Cluster:%d\" %i)\n",
    "        for j in np.where(model.labels_ == i)[0]:\n",
    "            str1+=X_train_2[j]\n",
    "            str1+=\" \"\n",
    "        word=wordclouds(str1)\n",
    "        fig.add_subplot(4,4,count)\n",
    "        plt.imshow(word) \n",
    "        plt.axis(\"off\") \n",
    "        plt.tight_layout(pad = 0) \n",
    "        plt.title(\"Cluster:%d\" %i)\n",
    "        count+=1\n",
    "    plt.show() \n",
    "    print (\"\\n\") "
   ]
  },
  {
   "cell_type": "code",
   "execution_count": 6,
   "metadata": {},
   "outputs": [],
   "source": [
    "import pickle\n",
    "\n",
    "filename='X_TSVD'\n",
    "outfile=open(filename,'wb')\n",
    "pickle.dump(X_TSVD, outfile)\n",
    "outfile.close()"
   ]
  },
  {
   "cell_type": "code",
   "execution_count": 7,
   "metadata": {},
   "outputs": [],
   "source": [
    "filename='X_TSVD'\n",
    "infile = open(filename,'rb')\n",
    "X_TSVD=pickle.load(infile)\n",
    "infile.close()"
   ]
  },
  {
   "cell_type": "markdown",
   "metadata": {},
   "source": [
    "# TFIDF-Picking Top 2000 words"
   ]
  },
  {
   "cell_type": "code",
   "execution_count": 8,
   "metadata": {},
   "outputs": [],
   "source": [
    "#TF-IDF\n",
    "tf_idf_vect = TfidfVectorizer()\n",
    "X_TSVD_tf_idf = tf_idf_vect.fit_transform(X_TSVD)\n",
    "\n",
    "filename='tf_idf_vect_TSVD'\n",
    "outfile=open(filename,'wb')\n",
    "pickle.dump(tf_idf_vect, outfile)\n",
    "outfile.close()\n",
    "\n",
    "filename='X_TSVD_tf_idf'\n",
    "outfile=open(filename,'wb')\n",
    "pickle.dump(X_TSVD_tf_idf, outfile)\n",
    "outfile.close()"
   ]
  },
  {
   "cell_type": "code",
   "execution_count": 9,
   "metadata": {},
   "outputs": [],
   "source": [
    "#Vocabulary generation\n",
    "vocab=tf_idf_vect.vocabulary_"
   ]
  },
  {
   "cell_type": "code",
   "execution_count": 10,
   "metadata": {},
   "outputs": [],
   "source": [
    "#generating features names\n",
    "features = tf_idf_vect.get_feature_names()"
   ]
  },
  {
   "cell_type": "code",
   "execution_count": 11,
   "metadata": {},
   "outputs": [],
   "source": [
    "# source: https://buhrmann.github.io/tfidf-analysis.html\n",
    "#Picking top 2000 feature names\n",
    "def top_tfidf_feats(row, features, top_n=2000):\n",
    "    ''' Get top n tfidf values in row and return them with their corresponding feature names.'''\n",
    "    topn_ids = np.argsort(row)[::-1][:top_n]\n",
    "    top_feats = [features[i] for i in topn_ids]\n",
    "    return top_feats\n",
    "\n",
    "top_tfidf = top_tfidf_feats(X_TSVD_tf_idf[1,:].toarray()[0],features,2000)"
   ]
  },
  {
   "cell_type": "markdown",
   "metadata": {},
   "source": [
    "# Co-Occurance Matrix"
   ]
  },
  {
   "cell_type": "code",
   "execution_count": 12,
   "metadata": {},
   "outputs": [
    {
     "name": "stderr",
     "output_type": "stream",
     "text": [
      "100%|██████████| 87773/87773 [1:18:00<00:00, 18.75it/s]\n"
     ]
    }
   ],
   "source": [
    "from tqdm import tqdm\n",
    "coocur_matrix = lil_matrix((len(vocab)+1, len(vocab)+1), dtype=np.float64)\n",
    "window_size=5\n",
    "try:\n",
    "    for review in tqdm(X_TSVD): \n",
    "        doc_tokens = word_tokenize(review)\n",
    "        N = len(doc_tokens)\n",
    "        for token in top_tfidf:\n",
    "            for i in range(0,window_size):\n",
    "                try:\n",
    "                    if (token in doc_tokens[0:i] or token in doc_tokens[i:(i+window_size+1)]) and token != doc_tokens[i]:\n",
    "                        coocur_matrix[vocab[doc_tokens[i]],vocab[token]] +=1\n",
    "                except:pass\n",
    "            for i in range(window_size, (N-window_size)):\n",
    "                try:\n",
    "                    if token in doc_tokens[(i-window_size):(i+window_size+1)] and token != doc_tokens[i]:\n",
    "                        coocur_matrix[vocab[doc_tokens[i]],vocab[token]] +=1\n",
    "                except:pass\n",
    "            for i in range(N-window_size, N):\n",
    "                try:\n",
    "                    if (token in doc_tokens[i:N] or token in doc_tokens[i-window_size:N]) and token != doc_tokens[i]:\n",
    "                        coocur_matrix[vocab[doc_tokens[i]],vocab[token]] +=1\n",
    "                except:pass\n",
    "except:\n",
    "    pass"
   ]
  },
  {
   "cell_type": "code",
   "execution_count": 22,
   "metadata": {},
   "outputs": [
    {
     "data": {
      "text/plain": [
       "(34182, 34182)"
      ]
     },
     "execution_count": 22,
     "metadata": {},
     "output_type": "execute_result"
    }
   ],
   "source": [
    "coocur_matrix.shape"
   ]
  },
  {
   "cell_type": "code",
   "execution_count": 14,
   "metadata": {},
   "outputs": [],
   "source": [
    "filename='coocur_matrix_SVD'\n",
    "outfile=open(filename,'wb')\n",
    "pickle.dump(coocur_matrix, outfile)\n",
    "outfile.close()"
   ]
  },
  {
   "cell_type": "code",
   "execution_count": 15,
   "metadata": {},
   "outputs": [
    {
     "name": "stdout",
     "output_type": "stream",
     "text": [
      "[nltk_data] Downloading package punkt to\n",
      "[nltk_data]     /home/ashish_28594/nltk_data...\n",
      "[nltk_data]   Package punkt is already up-to-date!\n"
     ]
    },
    {
     "data": {
      "text/plain": [
       "True"
      ]
     },
     "execution_count": 15,
     "metadata": {},
     "output_type": "execute_result"
    }
   ],
   "source": [
    "nltk.download('punkt')"
   ]
  },
  {
   "cell_type": "markdown",
   "metadata": {},
   "source": [
    "# Optimal k-value for TruncatedSVD"
   ]
  },
  {
   "cell_type": "code",
   "execution_count": 41,
   "metadata": {},
   "outputs": [],
   "source": [
    "from sklearn.decomposition import TruncatedSVD\n",
    "optimal_K2=range(50,151,10)\n",
    "scores2=[]\n",
    "for i in optimal_K2:\n",
    "    truncate=TruncatedSVD(n_components=i, random_state=0)\n",
    "    X_SVD=truncate.fit_transform(coocur_matrix)\n",
    "    scores2.append(truncate.explained_variance_ratio_.sum()*100)"
   ]
  },
  {
   "cell_type": "code",
   "execution_count": 42,
   "metadata": {},
   "outputs": [
    {
     "name": "stdout",
     "output_type": "stream",
     "text": [
      "\n",
      "The optimal K is : 150\n"
     ]
    },
    {
     "data": {
      "image/png": "[encoded data removed]",
      "text/plain": [
       "<Figure size 432x288 with 1 Axes>"
      ]
     },
     "metadata": {},
     "output_type": "display_data"
    },
    {
     "name": "stdout",
     "output_type": "stream",
     "text": [
      "('%Variance retained for each K : ', array([99.809, 99.864, 99.901, 99.925, 99.942, 99.953, 99.961, 99.967,\n",
      "       99.972, 99.975, 99.978]))\n"
     ]
    }
   ],
   "source": [
    "K2 = optimal_K2[scores2.index(max(scores2))]\n",
    "print('\\nThe optimal K is : {}'.format(K2))\n",
    "plt.plot(optimal_K2, scores2)\n",
    "\n",
    "for xy in zip(optimal_K2, np.round(scores2,3)):\n",
    "    plt.annotate('(%s, %s)' % xy, xy=xy, textcoords='data')\n",
    "\n",
    "plt.xlabel('K')\n",
    "plt.ylabel('%Variance retained')\n",
    "plt.show()\n",
    "print(\"%Variance retained for each K : \", np.round(scores2,3)) "
   ]
  },
  {
   "cell_type": "code",
   "execution_count": 44,
   "metadata": {},
   "outputs": [],
   "source": [
    "filename='X_SVD'\n",
    "outfile=open(filename,'wb')\n",
    "pickle.dump(X_SVD, outfile)\n",
    "outfile.close()"
   ]
  },
  {
   "cell_type": "code",
   "execution_count": 47,
   "metadata": {},
   "outputs": [],
   "source": [
    "X_SVD2=np.array(X_SVD)"
   ]
  },
  {
   "cell_type": "code",
   "execution_count": 55,
   "metadata": {},
   "outputs": [
    {
     "data": {
      "text/plain": [
       "(34182, 150)"
      ]
     },
     "execution_count": 55,
     "metadata": {},
     "output_type": "execute_result"
    }
   ],
   "source": [
    "X_SVD2.shape"
   ]
  },
  {
   "cell_type": "markdown",
   "metadata": {},
   "source": [
    "# Optimal Number of Clusters"
   ]
  },
  {
   "cell_type": "code",
   "execution_count": 51,
   "metadata": {},
   "outputs": [
    {
     "name": "stdout",
     "output_type": "stream",
     "text": [
      "\n",
      "The optimal cluster is : 50\n"
     ]
    },
    {
     "data": {
      "image/png": "[encoded data removed]",
      "text/plain": [
       "<Figure size 432x288 with 1 Axes>"
      ]
     },
     "metadata": {},
     "output_type": "display_data"
    },
    {
     "name": "stdout",
     "output_type": "stream",
     "text": [
      "('the loss  for each cluster value is : ', array([54896524.633, 42167416.06 , 39030492.721, 37265485.534,\n",
      "       34630568.991, 32413285.639, 31379339.916, 30496169.599,\n",
      "       30125332.939, 29852572.403]))\n"
     ]
    }
   ],
   "source": [
    "#Finding Optimal Number of clusters\n",
    "from sklearn.cluster import KMeans\n",
    "\n",
    "n_clusters = range(5,51,5)\n",
    "\n",
    "    # empty list that will hold cv scores\n",
    "cv_scores = []\n",
    "\n",
    "    # perform 10-fold cross validation\n",
    "for cluster in n_clusters:\n",
    "    kmeans =KMeans(init='k-means++',random_state=0,n_clusters=cluster)\n",
    "    scores = cross_val_score(kmeans, X_SVD2, cv=5,n_jobs=-1)\n",
    "    cv_scores.append(scores.mean())\n",
    "\n",
    "    # changing to misclassification error\n",
    "MSE = [1 - x for x in cv_scores]\n",
    "\n",
    "    # determining best max_depth\n",
    "optimal_cluster = n_clusters[MSE.index(min(MSE))]\n",
    "\n",
    "print('\\nThe optimal cluster is : {}'.format(optimal_cluster))\n",
    "# plot misclassification error vs depth \n",
    "plt.plot(n_clusters, MSE)\n",
    "\n",
    "for xy in zip(n_clusters, np.round(MSE,3)):\n",
    "    plt.annotate('(%s, %s)' % xy, xy=xy, textcoords='data')\n",
    "\n",
    "plt.xlabel('Cluster')\n",
    "plt.ylabel('loss')\n",
    "plt.show()\n",
    "print(\"the loss  for each cluster value is : \", np.round(MSE,3)) "
   ]
  },
  {
   "cell_type": "code",
   "execution_count": 52,
   "metadata": {},
   "outputs": [
    {
     "data": {
      "text/plain": [
       "{0: 31751,\n",
       " 1: 2,\n",
       " 2: 36,\n",
       " 3: 1,\n",
       " 4: 1,\n",
       " 5: 1,\n",
       " 6: 1,\n",
       " 7: 435,\n",
       " 8: 15,\n",
       " 9: 1,\n",
       " 10: 1,\n",
       " 11: 2,\n",
       " 12: 8,\n",
       " 13: 1,\n",
       " 14: 1,\n",
       " 15: 1,\n",
       " 16: 26,\n",
       " 17: 1,\n",
       " 18: 1,\n",
       " 19: 120,\n",
       " 20: 10,\n",
       " 21: 1,\n",
       " 22: 5,\n",
       " 23: 1,\n",
       " 24: 1,\n",
       " 25: 5,\n",
       " 26: 4,\n",
       " 27: 2,\n",
       " 28: 32,\n",
       " 29: 219,\n",
       " 30: 1,\n",
       " 31: 1,\n",
       " 32: 1,\n",
       " 33: 3,\n",
       " 34: 9,\n",
       " 35: 93,\n",
       " 36: 1,\n",
       " 37: 26,\n",
       " 38: 1,\n",
       " 39: 20,\n",
       " 40: 1,\n",
       " 41: 1,\n",
       " 42: 1,\n",
       " 43: 3,\n",
       " 44: 1,\n",
       " 45: 35,\n",
       " 46: 8,\n",
       " 47: 5,\n",
       " 48: 1284,\n",
       " 49: 1}"
      ]
     },
     "execution_count": 52,
     "metadata": {},
     "output_type": "execute_result"
    }
   ],
   "source": [
    "#Number of reviews in each cluster\n",
    "model5=KMeans(init='k-means++',random_state=0,n_clusters=optimal_cluster,n_jobs=-1).fit(coocur_matrix)\n",
    "unique1, counts1 = np.unique(model5.labels_, return_counts=True)\n",
    "dict(zip(unique1, counts1))"
   ]
  },
  {
   "cell_type": "code",
   "execution_count": 54,
   "metadata": {},
   "outputs": [],
   "source": [
    "filename='model5_SVD'\n",
    "outfile=open(filename,'wb')\n",
    "pickle.dump(model5, outfile)\n",
    "outfile.close()"
   ]
  },
  {
   "cell_type": "code",
   "execution_count": null,
   "metadata": {},
   "outputs": [],
   "source": [
    "# Reading Top 5 clusters form WOrdcloud\n",
    "Print_clusters(model5)"
   ]
  },
  {
   "cell_type": "markdown",
   "metadata": {},
   "source": [
    "# Conclusion"
   ]
  },
  {
   "cell_type": "markdown",
   "metadata": {},
   "source": [
    "Here the top 5 clusters are related mostly to taste and flavour of food products like tea,coffe,cookies and very are describing about animal food products."
   ]
  }
 ],
 "metadata": {
  "kernelspec": {
   "display_name": "Python 2",
   "language": "python",
   "name": "python2"
  },
  "language_info": {
   "codemirror_mode": {
    "name": "ipython",
    "version": 2
   },
   "file_extension": ".py",
   "mimetype": "text/x-python",
   "name": "python",
   "nbconvert_exporter": "python",
   "pygments_lexer": "ipython2",
   "version": "2.7.13"
  }
 },
 "nbformat": 4,
 "nbformat_minor": 2
}
