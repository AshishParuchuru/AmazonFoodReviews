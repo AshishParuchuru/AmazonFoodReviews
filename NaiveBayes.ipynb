{
 "cells": [
  {
   "cell_type": "code",
   "execution_count": 38,
   "metadata": {},
   "outputs": [],
   "source": [
    "import numpy as np\n",
    "from sklearn.naive_bayes import MultinomialNB\n",
    "import pandas as pd\n",
    "import matplotlib.pyplot as plt\n",
    "from sklearn.cross_validation import train_test_split\n",
    "from sklearn.metrics import accuracy_score\n",
    "from sklearn.cross_validation import cross_val_score\n",
    "from collections import Counter\n",
    "from sklearn.metrics import classification_report\n",
    "from sklearn import cross_validation\n",
    "from sklearn.metrics import confusion_matrix"
   ]
  },
  {
   "cell_type": "code",
   "execution_count": 2,
   "metadata": {},
   "outputs": [],
   "source": [
    "import os\n",
    "os.getcwd()\n",
    "os.chdir(r'/home/g28594ashish/13_AmazonFoodReview/Pre-Processing Data')"
   ]
  },
  {
   "cell_type": "code",
   "execution_count": 3,
   "metadata": {},
   "outputs": [
    {
     "data": {
      "text/plain": [
       "'/home/g28594ashish/13_AmazonFoodReview/Pre-Processing Data'"
      ]
     },
     "execution_count": 3,
     "metadata": {},
     "output_type": "execute_result"
    }
   ],
   "source": [
    "os.getcwd()"
   ]
  },
  {
   "cell_type": "code",
   "execution_count": 4,
   "metadata": {},
   "outputs": [],
   "source": [
    "import pickle\n",
    "\n",
    "filename='X_train'\n",
    "infile = open(filename,'rb')\n",
    "X_train=pickle.load(infile)\n",
    "infile.close()\n",
    "\n",
    "filename='y_train'\n",
    "infile = open(filename,'rb')\n",
    "y_train=pickle.load(infile)\n",
    "infile.close()\n",
    "\n",
    "filename='X_test'\n",
    "infile = open(filename,'rb')\n",
    "X_test=pickle.load(infile)\n",
    "infile.close()\n",
    "\n",
    "filename='y_test'\n",
    "infile = open(filename,'rb')\n",
    "y_test=pickle.load(infile)\n",
    "infile.close()"
   ]
  },
  {
   "cell_type": "code",
   "execution_count": 30,
   "metadata": {},
   "outputs": [],
   "source": [
    "#BOW\n",
    "from sklearn.feature_extraction.text import CountVectorizer\n",
    "count_vect = CountVectorizer() #ngram_range=(1,2)\n",
    "X_train_BOW = count_vect.fit_transform(X_train)\n",
    "X_test_BOW = count_vect.transform(X_test)"
   ]
  },
  {
   "cell_type": "code",
   "execution_count": 31,
   "metadata": {},
   "outputs": [],
   "source": [
    "#TF-IDF\n",
    "from sklearn.feature_extraction.text import TfidfTransformer\n",
    "from sklearn.feature_extraction.text import TfidfVectorizer\n",
    "\n",
    "tf_idf_vect = TfidfVectorizer()\n",
    "X_train_tf_idf = tf_idf_vect.fit_transform(X_train)\n",
    "X_test_tf_idf = tf_idf_vect.transform(X_test)"
   ]
  },
  {
   "cell_type": "code",
   "execution_count": null,
   "metadata": {},
   "outputs": [],
   "source": [
    "#Unpickling\n",
    "import pickle\n",
    "\n",
    "infile = open('Train_BOW_Std','rb')\n",
    "X_train_bow_standarized_data=pickle.load(infile)\n",
    "infile.close()\n",
    "\n",
    "infile = open('Train_TFIDF_Std','rb')\n",
    "X_train_tfidf_standarized_data=pickle.load(infile)\n",
    "infile.close()\n",
    "\n",
    "infile = open('Test_BOW_Std','rb')\n",
    "X_test_bow_standarized_data=pickle.load(infile)\n",
    "infile.close()\n",
    "\n",
    "infile = open('Test_TFIDF_Std','rb')\n",
    "X_test_TFIDF_standarized_data=pickle.load(infile)\n",
    "infile.close()"
   ]
  },
  {
   "cell_type": "code",
   "execution_count": 32,
   "metadata": {},
   "outputs": [],
   "source": [
    "alpha_cv=0.00001\n",
    "alpha_values =[]\n",
    "while(alpha_cv <=0.001):\n",
    "    alpha_values.append(round(alpha_cv,5))\n",
    "    alpha_cv+=0.0001"
   ]
  },
  {
   "cell_type": "code",
   "execution_count": 40,
   "metadata": {},
   "outputs": [
    {
     "name": "stdout",
     "output_type": "stream",
     "text": [
      "[1e-05, 0.00011, 0.00021, 0.00031, 0.00041, 0.00051, 0.00061, 0.00071, 0.00081, 0.00091]\n"
     ]
    }
   ],
   "source": [
    "print alpha_values"
   ]
  },
  {
   "cell_type": "code",
   "execution_count": 33,
   "metadata": {},
   "outputs": [
    {
     "name": "stdout",
     "output_type": "stream",
     "text": [
      "('\\nThe optimal alpha using BOW is ', 0.00091)\n",
      "('The misclassification error for each alpha (using BOW) value is : ', array([0.108, 0.107, 0.107, 0.107, 0.106, 0.106, 0.106, 0.106, 0.106,\n",
      "       0.106]))\n",
      "\n",
      "Time taken to execute Optimal Alpha ::  0:00:34.066490\n"
     ]
    }
   ],
   "source": [
    "## Optimal Alpha on BOW\n",
    "\n",
    "from datetime import datetime\n",
    "\n",
    "start = datetime.now()\n",
    "cv_scores = []\n",
    "alpha_cv=0.00001\n",
    "\n",
    "# perform 5-fold cross validation\n",
    "while(alpha_cv <=0.001):\n",
    "    nb = MultinomialNB(alpha=alpha_cv)\n",
    "    scores = cross_val_score(nb, X_train_BOW, y_train, cv=5, scoring='accuracy')\n",
    "    cv_scores.append(scores.mean())\n",
    "    alpha_cv+=0.0001\n",
    "\n",
    "# changing to misclassification error\n",
    "MSE = [1 - x for x in cv_scores]\n",
    "\n",
    "# determining best alpha\n",
    "optimal_alpha = alpha_values[cv_scores.index(max(cv_scores))]\n",
    "print('\\nThe optimal alpha using BOW is ', optimal_alpha)\n",
    "print(\"The misclassification error for each alpha (using BOW) value is : \",np.round(MSE,3))\n",
    "\n",
    "print \"\\nTime taken to execute Optimal Alpha :: \",datetime.now()-start"
   ]
  },
  {
   "cell_type": "code",
   "execution_count": 37,
   "metadata": {},
   "outputs": [],
   "source": [
    "#Using Bow\n",
    "nb_optimal = MultinomialNB(alpha=optimal_alpha)\n",
    "nb_optimal.fit(X_train_BOW, y_train)\n",
    "\n",
    "# predict the response\n",
    "pred = nb_optimal.predict(X_test_BOW)"
   ]
  },
  {
   "cell_type": "markdown",
   "metadata": {},
   "source": [
    "# Function To Plot CONFUSION MATRIX"
   ]
  },
  {
   "cell_type": "code",
   "execution_count": 35,
   "metadata": {},
   "outputs": [],
   "source": [
    "import itertools\n",
    "import numpy as np\n",
    "import matplotlib.pyplot as plt\n",
    "from sklearn.metrics import confusion_matrix\n",
    "plt.rcParams[\"font.family\"] = 'DejaVu Sans'\n",
    "\n",
    "def plot_confusion_matrix(cm, classes,\n",
    "                          normalize=False,\n",
    "                          title='Confusion matrix',\n",
    "                          cmap=plt.cm.Blues):\n",
    "    if normalize:\n",
    "        cm = cm.astype('float') / cm.sum(axis=1)[:, np.newaxis]\n",
    "\n",
    "    plt.imshow(cm, interpolation='nearest', cmap=cmap)\n",
    "    plt.title(title)\n",
    "    plt.colorbar()\n",
    "    tick_marks = np.arange(len(classes))\n",
    "    plt.xticks(tick_marks, classes, rotation=90)\n",
    "    plt.yticks(tick_marks, classes)\n",
    "\n",
    "    fmt = '.2f' if normalize else 'd'\n",
    "    thresh = cm.max() / 2.\n",
    "    for i, j in itertools.product(range(cm.shape[0]), range(cm.shape[1])):\n",
    "        plt.text(j, i, format(cm[i, j], fmt),\n",
    "                 horizontalalignment=\"center\",\n",
    "                 color=\"white\" if cm[i, j] > thresh else \"black\")\n",
    "\n",
    "    plt.tight_layout()\n",
    "    plt.ylabel('True label')\n",
    "    plt.xlabel('Predicted label')"
   ]
  },
  {
   "cell_type": "code",
   "execution_count": 39,
   "metadata": {},
   "outputs": [
    {
     "name": "stdout",
     "output_type": "stream",
     "text": [
      "\n",
      "The accuracy of the NaiveBayes classifier(using BOW vectorization) for alpha = 0.000910 is 89.753963%\n",
      "\n",
      "  CLASSIFICATION REPORT\n",
      "             precision    recall  f1-score   support\n",
      "\n",
      "   negative       0.67      0.68      0.68     17075\n",
      "   positive       0.94      0.94      0.94     92177\n",
      "\n",
      "avg / total       0.90      0.90      0.90    109252\n",
      "\n",
      "\n",
      "  CONFUSION MATRIX\n",
      "[[11661  5414]\n",
      " [ 5780 86397]]\n",
      "\n",
      "  Plot of CONFUSION MATRIX\n"
     ]
    },
    {
     "data": {
      "image/png": "[encoded data removed]",
      "text/plain": [
       "<Figure size 432x432 with 2 Axes>"
      ]
     },
     "metadata": {
      "needs_background": "light"
     },
     "output_type": "display_data"
    }
   ],
   "source": [
    "from sklearn.metrics import classification_report\n",
    "# evaluate accuracy\n",
    "acc = accuracy_score(y_test, pred) * 100\n",
    "print('\\nThe accuracy of the NaiveBayes classifier(using BOW vectorization) for alpha = %f is %f%%' % (optimal_alpha, acc))\n",
    "\n",
    "#Evaluate precission,recall,f1-score\n",
    "classification_report = classification_report(y_test, pred)\n",
    "print \"\\n  CLASSIFICATION REPORT\"\n",
    "print classification_report\n",
    "\n",
    "#determine Confusion matrix  and plotting\n",
    "cm = confusion_matrix(y_test, pred)\n",
    "print \"\\n  CONFUSION MATRIX\"\n",
    "print cm\n",
    "print \"\\n  Plot of CONFUSION MATRIX\"\n",
    "plt.figure(figsize=(6,6))\n",
    "plt.grid(b=False)\n",
    "plot_confusion_matrix(cm, classes=['0','1'], normalize=False, title='Normalized confusion matrix', cmap = plt.cm.Blues)\n",
    "plt.show()"
   ]
  },
  {
   "cell_type": "markdown",
   "metadata": {},
   "source": [
    "USING TF-IDF"
   ]
  },
  {
   "cell_type": "code",
   "execution_count": 40,
   "metadata": {},
   "outputs": [
    {
     "name": "stdout",
     "output_type": "stream",
     "text": [
      "('\\nThe optimal alpha using TF-IDF is ', 0.00091)\n",
      "('The misclassification error for each alpha (using TF-IDF) value is : ', array([0.124, 0.124, 0.123, 0.123, 0.123, 0.123, 0.123, 0.123, 0.123,\n",
      "       0.123]))\n",
      "\n",
      "Time taken to execute Optimal Alpha ::  0:00:32.917904\n"
     ]
    }
   ],
   "source": [
    "## Optimal Alpha on TF-IDF\n",
    "\n",
    "from datetime import datetime\n",
    "\n",
    "start = datetime.now()\n",
    "cv_scores = []\n",
    "alpha_cv=0.00001\n",
    "\n",
    "# perform 5-fold cross validation\n",
    "while(alpha_cv <=0.001):\n",
    "    nb = MultinomialNB(alpha=alpha_cv)\n",
    "    scores = cross_val_score(nb, X_train_tf_idf, y_train, cv=5, scoring='accuracy')\n",
    "    cv_scores.append(scores.mean())\n",
    "    alpha_cv+=0.0001\n",
    "\n",
    "# changing to misclassification error\n",
    "MSE = [1 - x for x in cv_scores]\n",
    "\n",
    "# determining best alpha\n",
    "optimal_alpha = alpha_values[cv_scores.index(max(cv_scores))]\n",
    "print('\\nThe optimal alpha using TF-IDF is ', optimal_alpha)\n",
    "print(\"The misclassification error for each alpha (using TF-IDF) value is : \",np.round(MSE,3))\n",
    "\n",
    "print \"\\nTime taken to execute Optimal Alpha :: \",datetime.now()-start"
   ]
  },
  {
   "cell_type": "code",
   "execution_count": 49,
   "metadata": {},
   "outputs": [],
   "source": [
    "#Using TF-IDF\n",
    "nb_optimal = MultinomialNB(alpha=optimal_alpha)\n",
    "nb_optimal.fit(X_train_tf_idf, y_train)\n",
    "\n",
    "# predict the response\n",
    "pred = nb_optimal.predict(X_test_tf_idf)"
   ]
  },
  {
   "cell_type": "code",
   "execution_count": 50,
   "metadata": {},
   "outputs": [
    {
     "name": "stdout",
     "output_type": "stream",
     "text": [
      "\n",
      "The accuracy of the NaiveBayes classifier(using TF-iDF vectorization) for alpha = 0.000910 is 87.721964%\n",
      "\n",
      "  CLASSIFICATION REPORT\n",
      "             precision    recall  f1-score   support\n",
      "\n",
      "   negative       0.84      0.26      0.40     17075\n",
      "   positive       0.88      0.99      0.93     92177\n",
      "\n",
      "avg / total       0.87      0.88      0.85    109252\n",
      "\n",
      "\n",
      "  CONFUSION MATRIX\n",
      "[[ 4512 12563]\n",
      " [  851 91326]]\n",
      "\n",
      "  Plot of CONFUSION MATRIX\n"
     ]
    },
    {
     "data": {
      "image/png": "[encoded data removed]",
      "text/plain": [
       "<Figure size 432x432 with 2 Axes>"
      ]
     },
     "metadata": {
      "needs_background": "light"
     },
     "output_type": "display_data"
    }
   ],
   "source": [
    "from sklearn.metrics import classification_report\n",
    "# evaluate accuracy\n",
    "acc = accuracy_score(y_test, pred) * 100\n",
    "print('\\nThe accuracy of the NaiveBayes classifier(using TF-iDF vectorization) for alpha = %f is %f%%' % (optimal_alpha, acc))\n",
    "\n",
    "#Evaluate precission,recall,f1-score\n",
    "classification_report = classification_report(y_test, pred)\n",
    "print \"\\n  CLASSIFICATION REPORT\"\n",
    "print classification_report\n",
    "\n",
    "#determine Confusion matrix  and plotting\n",
    "cm = confusion_matrix(y_test, pred)\n",
    "print \"\\n  CONFUSION MATRIX\"\n",
    "print cm\n",
    "print \"\\n  Plot of CONFUSION MATRIX\"\n",
    "plt.figure(figsize=(6,6))\n",
    "plt.grid(b=False)\n",
    "plot_confusion_matrix(cm, classes=['0','1'], normalize=True, title='Normalized confusion matrix', cmap = plt.cm.Blues)\n",
    "plt.show()"
   ]
  },
  {
   "cell_type": "markdown",
   "metadata": {},
   "source": [
    "# Function to Get Important Features/Words"
   ]
  },
  {
   "cell_type": "code",
   "execution_count": 51,
   "metadata": {},
   "outputs": [],
   "source": [
    "def get_most_important_features(vectorizer, model, n=5):\n",
    "    index_to_word = {v:k for k,v in vectorizer.vocabulary_.items()}\n",
    "    \n",
    "    # loop for each class\n",
    "    classes ={}\n",
    "    for class_index in range(model.coef_.shape[0]):\n",
    "        word_importances = [(el, index_to_word[i]) for i,el in enumerate(model.coef_[class_index])]\n",
    "        sorted_coeff = sorted(word_importances, key = lambda x : x[0], reverse=True)\n",
    "        tops = sorted(sorted_coeff[:n], key = lambda x : x[0])\n",
    "        bottom = sorted_coeff[-n:]\n",
    "        classes[class_index] = {\n",
    "            'tops':tops,\n",
    "            'bottom':bottom\n",
    "        }\n",
    "    return classes"
   ]
  },
  {
   "cell_type": "code",
   "execution_count": 52,
   "metadata": {},
   "outputs": [],
   "source": [
    "def plot_important_words(top_scores, top_words, bottom_scores, bottom_words, name):\n",
    "    y_pos = np.arange(len(top_words))\n",
    "    top_pairs = [(a,b) for a,b in zip(top_words, top_scores)]\n",
    "    top_pairs = sorted(top_pairs, key=lambda x: x[1])\n",
    "    \n",
    "    bottom_pairs = [(a,b) for a,b in zip(bottom_words, bottom_scores)]\n",
    "    bottom_pairs = sorted(bottom_pairs, key=lambda x: x[1], reverse=True)\n",
    "    \n",
    "    top_words = [a[0] for a in top_pairs]\n",
    "    top_scores = [a[1] for a in top_pairs]\n",
    "    \n",
    "    bottom_words = [a[0] for a in bottom_pairs]\n",
    "    bottom_scores = [a[1] for a in bottom_pairs]\n",
    "    \n",
    "    fig = plt.figure(figsize=(10, 10))  \n",
    "\n",
    "    plt.subplot(121)\n",
    "    plt.barh(y_pos,bottom_scores, align='center', alpha=0.5)\n",
    "    plt.title('Negative', fontsize=20)\n",
    "    plt.yticks(y_pos, bottom_words, fontsize=14)\n",
    "    plt.suptitle('Key words', fontsize=16)\n",
    "    plt.xlabel('Importance', fontsize=20)\n",
    "    \n",
    "    plt.subplot(122)\n",
    "    plt.barh(y_pos,top_scores, align='center', alpha=0.5)\n",
    "    plt.title('Positive', fontsize=20)\n",
    "    plt.yticks(y_pos, top_words, fontsize=14)\n",
    "    plt.suptitle(name, fontsize=16)\n",
    "    plt.xlabel('Importance', fontsize=20)\n",
    "    \n",
    "    plt.subplots_adjust(wspace=0.8)\n",
    "    plt.show()"
   ]
  },
  {
   "cell_type": "code",
   "execution_count": 54,
   "metadata": {},
   "outputs": [
    {
     "data": {
      "image/png": "[encoded data removed]",
      "text/plain": [
       "<Figure size 720x720 with 2 Axes>"
      ]
     },
     "metadata": {
      "needs_background": "light"
     },
     "output_type": "display_data"
    }
   ],
   "source": [
    "#Important Features in classifying the reviews using BOW\n",
    "importance = get_most_important_features(count_vect, nb_optimal, 10)\n",
    "\n",
    "top_scores = [a[0] for a in importance[0]['tops']]\n",
    "top_words = [a[1] for a in importance[0]['tops']]\n",
    "bottom_scores = [a[0] for a in importance[0]['bottom']]\n",
    "bottom_words = [a[1] for a in importance[0]['bottom']]\n",
    "\n",
    "plot_important_words(top_scores, top_words, bottom_scores, bottom_words, \"Most important words for relevance using BOW\")"
   ]
  },
  {
   "cell_type": "code",
   "execution_count": 55,
   "metadata": {},
   "outputs": [
    {
     "data": {
      "text/plain": [
       "{0: {'bottom': [(-20.821168847861596, u'zippfizz'),\n",
       "   (-20.821168847861596, u'zirconia'),\n",
       "   (-20.821168847861596, u'zombieoid'),\n",
       "   (-20.821168847861596, u'zoonot'),\n",
       "   (-20.821168847861596, u'zoyogurt'),\n",
       "   (-20.821168847861596, u'zucker'),\n",
       "   (-20.821168847861596, u'zyliss'),\n",
       "   (-20.821168847861596, u'zylitor'),\n",
       "   (-20.821168847861596, u'zzzzzzz'),\n",
       "   (-20.821168847861596, u'\\xe7elem')],\n",
       "  'tops': [(-5.318411171523316, u'use'),\n",
       "   (-5.304223480989249, u'product'),\n",
       "   (-5.216011747318518, u'coffe'),\n",
       "   (-5.213287543905436, u'flavor'),\n",
       "   (-5.207416128380087, u'tea'),\n",
       "   (-5.150613511898014, u'like'),\n",
       "   (-5.134894003552036, u'good'),\n",
       "   (-5.130269976942211, u'tast'),\n",
       "   (-5.069963767939084, u'love'),\n",
       "   (-5.062894372661251, u'great')]}}"
      ]
     },
     "execution_count": 55,
     "metadata": {},
     "output_type": "execute_result"
    }
   ],
   "source": [
    "importance #BOW"
   ]
  },
  {
   "cell_type": "code",
   "execution_count": 56,
   "metadata": {},
   "outputs": [
    {
     "data": {
      "image/png": "[encoded data removed]",
      "text/plain": [
       "<Figure size 720x720 with 2 Axes>"
      ]
     },
     "metadata": {
      "needs_background": "light"
     },
     "output_type": "display_data"
    }
   ],
   "source": [
    "#Important Features in classifying the reviews using TF-IDF\n",
    "importance = get_most_important_features(tf_idf_vect, nb_optimal, 10)\n",
    "\n",
    "top_scores = [a[0] for a in importance[0]['tops']]\n",
    "top_words = [a[1] for a in importance[0]['tops']]\n",
    "bottom_scores = [a[0] for a in importance[0]['bottom']]\n",
    "bottom_words = [a[1] for a in importance[0]['bottom']]\n",
    "\n",
    "plot_important_words(top_scores, top_words, bottom_scores, bottom_words, \"Most important words for relevance using TF-IDF\")"
   ]
  },
  {
   "cell_type": "code",
   "execution_count": 57,
   "metadata": {},
   "outputs": [
    {
     "data": {
      "text/plain": [
       "{0: {'bottom': [(-20.821168847861596, u'zippfizz'),\n",
       "   (-20.821168847861596, u'zirconia'),\n",
       "   (-20.821168847861596, u'zombieoid'),\n",
       "   (-20.821168847861596, u'zoonot'),\n",
       "   (-20.821168847861596, u'zoyogurt'),\n",
       "   (-20.821168847861596, u'zucker'),\n",
       "   (-20.821168847861596, u'zyliss'),\n",
       "   (-20.821168847861596, u'zylitor'),\n",
       "   (-20.821168847861596, u'zzzzzzz'),\n",
       "   (-20.821168847861596, u'\\xe7elem')],\n",
       "  'tops': [(-5.318411171523316, u'use'),\n",
       "   (-5.304223480989249, u'product'),\n",
       "   (-5.216011747318518, u'coffe'),\n",
       "   (-5.213287543905436, u'flavor'),\n",
       "   (-5.207416128380087, u'tea'),\n",
       "   (-5.150613511898014, u'like'),\n",
       "   (-5.134894003552036, u'good'),\n",
       "   (-5.130269976942211, u'tast'),\n",
       "   (-5.069963767939084, u'love'),\n",
       "   (-5.062894372661251, u'great')]}}"
      ]
     },
     "execution_count": 57,
     "metadata": {},
     "output_type": "execute_result"
    }
   ],
   "source": [
    "importance"
   ]
  },
  {
   "cell_type": "code",
   "execution_count": null,
   "metadata": {},
   "outputs": [],
   "source": []
  },
  {
   "cell_type": "markdown",
   "metadata": {},
   "source": [
    "It is observed that our dataset has a better accuracy on using the BOW rather than TF_IDF using Naive Bayes Classifier.\n",
    "\n",
    "Our classifier correctly picks up on some positive words (great,love, taste,good), but clearly seems to be overfitting on some Negative terms "
   ]
  }
 ],
 "metadata": {
  "kernelspec": {
   "display_name": "Python 2",
   "language": "python",
   "name": "python2"
  },
  "language_info": {
   "codemirror_mode": {
    "name": "ipython",
    "version": 2
   },
   "file_extension": ".py",
   "mimetype": "text/x-python",
   "name": "python",
   "nbconvert_exporter": "python",
   "pygments_lexer": "ipython2",
   "version": "2.7.12"
  }
 },
 "nbformat": 4,
 "nbformat_minor": 2
}
